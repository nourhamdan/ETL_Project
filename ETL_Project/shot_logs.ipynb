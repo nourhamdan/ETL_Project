{
 "cells": [
  {
   "cell_type": "code",
   "execution_count": 24,
   "metadata": {},
   "outputs": [],
   "source": [
    "import pandas as pd\r\n",
    "from sqlalchemy import create_engine"
   ]
  },
  {
   "cell_type": "code",
   "execution_count": 25,
   "metadata": {},
   "outputs": [
    {
     "data": {
      "text/html": "<div>\n<style scoped>\n    .dataframe tbody tr th:only-of-type {\n        vertical-align: middle;\n    }\n\n    .dataframe tbody tr th {\n        vertical-align: top;\n    }\n\n    .dataframe thead th {\n        text-align: right;\n    }\n</style>\n<table border=\"1\" class=\"dataframe\">\n  <thead>\n    <tr style=\"text-align: right;\">\n      <th></th>\n      <th>GAME_ID</th>\n      <th>MATCHUP</th>\n      <th>LOCATION</th>\n      <th>W</th>\n      <th>FINAL_MARGIN</th>\n      <th>SHOT_NUMBER</th>\n      <th>PERIOD</th>\n      <th>GAME_CLOCK</th>\n      <th>SHOT_CLOCK</th>\n      <th>DRIBBLES</th>\n      <th>...</th>\n      <th>SHOT_DIST</th>\n      <th>PTS_TYPE</th>\n      <th>SHOT_RESULT</th>\n      <th>CLOSEST_DEFENDER</th>\n      <th>CLOSEST_DEFENDER_PLAYER_ID</th>\n      <th>CLOSE_DEF_DIST</th>\n      <th>FGM</th>\n      <th>PTS</th>\n      <th>player_name</th>\n      <th>player_id</th>\n    </tr>\n  </thead>\n  <tbody>\n    <tr>\n      <th>0</th>\n      <td>21400899</td>\n      <td>MAR 04, 2015 - CHA @ BKN</td>\n      <td>A</td>\n      <td>W</td>\n      <td>24</td>\n      <td>1</td>\n      <td>1</td>\n      <td>1:09</td>\n      <td>10.8</td>\n      <td>2</td>\n      <td>...</td>\n      <td>7.7</td>\n      <td>2</td>\n      <td>made</td>\n      <td>Anderson, Alan</td>\n      <td>101187</td>\n      <td>1.3</td>\n      <td>1</td>\n      <td>2</td>\n      <td>brian roberts</td>\n      <td>203148</td>\n    </tr>\n    <tr>\n      <th>1</th>\n      <td>21400899</td>\n      <td>MAR 04, 2015 - CHA @ BKN</td>\n      <td>A</td>\n      <td>W</td>\n      <td>24</td>\n      <td>2</td>\n      <td>1</td>\n      <td>0:14</td>\n      <td>3.4</td>\n      <td>0</td>\n      <td>...</td>\n      <td>28.2</td>\n      <td>3</td>\n      <td>missed</td>\n      <td>Bogdanovic, Bojan</td>\n      <td>202711</td>\n      <td>6.1</td>\n      <td>0</td>\n      <td>0</td>\n      <td>brian roberts</td>\n      <td>203148</td>\n    </tr>\n    <tr>\n      <th>2</th>\n      <td>21400899</td>\n      <td>MAR 04, 2015 - CHA @ BKN</td>\n      <td>A</td>\n      <td>W</td>\n      <td>24</td>\n      <td>3</td>\n      <td>1</td>\n      <td>0:00</td>\n      <td>NaN</td>\n      <td>3</td>\n      <td>...</td>\n      <td>10.1</td>\n      <td>2</td>\n      <td>missed</td>\n      <td>Bogdanovic, Bojan</td>\n      <td>202711</td>\n      <td>0.9</td>\n      <td>0</td>\n      <td>0</td>\n      <td>brian roberts</td>\n      <td>203148</td>\n    </tr>\n    <tr>\n      <th>3</th>\n      <td>21400899</td>\n      <td>MAR 04, 2015 - CHA @ BKN</td>\n      <td>A</td>\n      <td>W</td>\n      <td>24</td>\n      <td>4</td>\n      <td>2</td>\n      <td>11:47</td>\n      <td>10.3</td>\n      <td>2</td>\n      <td>...</td>\n      <td>17.2</td>\n      <td>2</td>\n      <td>missed</td>\n      <td>Brown, Markel</td>\n      <td>203900</td>\n      <td>3.4</td>\n      <td>0</td>\n      <td>0</td>\n      <td>brian roberts</td>\n      <td>203148</td>\n    </tr>\n    <tr>\n      <th>4</th>\n      <td>21400899</td>\n      <td>MAR 04, 2015 - CHA @ BKN</td>\n      <td>A</td>\n      <td>W</td>\n      <td>24</td>\n      <td>5</td>\n      <td>2</td>\n      <td>10:34</td>\n      <td>10.9</td>\n      <td>2</td>\n      <td>...</td>\n      <td>3.7</td>\n      <td>2</td>\n      <td>missed</td>\n      <td>Young, Thaddeus</td>\n      <td>201152</td>\n      <td>1.1</td>\n      <td>0</td>\n      <td>0</td>\n      <td>brian roberts</td>\n      <td>203148</td>\n    </tr>\n  </tbody>\n</table>\n<p>5 rows × 21 columns</p>\n</div>",
      "text/plain": [
       "    GAME_ID                   MATCHUP LOCATION  W  FINAL_MARGIN  SHOT_NUMBER  \\\n",
       "0  21400899  MAR 04, 2015 - CHA @ BKN        A  W            24            1   \n",
       "1  21400899  MAR 04, 2015 - CHA @ BKN        A  W            24            2   \n",
       "2  21400899  MAR 04, 2015 - CHA @ BKN        A  W            24            3   \n",
       "3  21400899  MAR 04, 2015 - CHA @ BKN        A  W            24            4   \n",
       "4  21400899  MAR 04, 2015 - CHA @ BKN        A  W            24            5   \n",
       "\n",
       "   PERIOD GAME_CLOCK  SHOT_CLOCK  DRIBBLES  ...  SHOT_DIST  PTS_TYPE  \\\n",
       "0       1       1:09        10.8         2  ...        7.7         2   \n",
       "1       1       0:14         3.4         0  ...       28.2         3   \n",
       "2       1       0:00         NaN         3  ...       10.1         2   \n",
       "3       2      11:47        10.3         2  ...       17.2         2   \n",
       "4       2      10:34        10.9         2  ...        3.7         2   \n",
       "\n",
       "   SHOT_RESULT   CLOSEST_DEFENDER CLOSEST_DEFENDER_PLAYER_ID  CLOSE_DEF_DIST  \\\n",
       "0         made     Anderson, Alan                     101187             1.3   \n",
       "1       missed  Bogdanovic, Bojan                     202711             6.1   \n",
       "2       missed  Bogdanovic, Bojan                     202711             0.9   \n",
       "3       missed      Brown, Markel                     203900             3.4   \n",
       "4       missed    Young, Thaddeus                     201152             1.1   \n",
       "\n",
       "   FGM  PTS    player_name player_id  \n",
       "0    1    2  brian roberts    203148  \n",
       "1    0    0  brian roberts    203148  \n",
       "2    0    0  brian roberts    203148  \n",
       "3    0    0  brian roberts    203148  \n",
       "4    0    0  brian roberts    203148  \n",
       "\n",
       "[5 rows x 21 columns]"
      ]
     },
     "execution_count": 25,
     "metadata": {},
     "output_type": "execute_result"
    }
   ],
   "source": [
    "shot_log_file = \"Resources/shot_logs.csv\"\n",
    "shot_df = pd.read_csv(shot_log_file)\n",
    "shot_df.head()\n"
   ]
  },
  {
   "cell_type": "code",
   "execution_count": 26,
   "metadata": {},
   "outputs": [
    {
     "data": {
      "text/html": "<div>\n<style scoped>\n    .dataframe tbody tr th:only-of-type {\n        vertical-align: middle;\n    }\n\n    .dataframe tbody tr th {\n        vertical-align: top;\n    }\n\n    .dataframe thead th {\n        text-align: right;\n    }\n</style>\n<table border=\"1\" class=\"dataframe\">\n  <thead>\n    <tr style=\"text-align: right;\">\n      <th></th>\n      <th>GAME_ID</th>\n      <th>MATCHUP</th>\n      <th>LOCATION</th>\n      <th>W</th>\n      <th>FINAL_MARGIN</th>\n      <th>SHOT_NUMBER</th>\n      <th>PERIOD</th>\n      <th>GAME_CLOCK</th>\n      <th>SHOT_CLOCK</th>\n      <th>DRIBBLES</th>\n      <th>...</th>\n      <th>SHOT_DIST</th>\n      <th>PTS_TYPE</th>\n      <th>SHOT_RESULT</th>\n      <th>CLOSEST_DEFENDER</th>\n      <th>CLOSEST_DEFENDER_PLAYER_ID</th>\n      <th>CLOSE_DEF_DIST</th>\n      <th>FGM</th>\n      <th>PTS</th>\n      <th>player_name</th>\n      <th>player_id</th>\n    </tr>\n  </thead>\n  <tbody>\n    <tr>\n      <th>0</th>\n      <td>21400899</td>\n      <td>MAR 04, 2015 - CHA @ BKN</td>\n      <td>A</td>\n      <td>W</td>\n      <td>24</td>\n      <td>1</td>\n      <td>1</td>\n      <td>1:09</td>\n      <td>10.8</td>\n      <td>2</td>\n      <td>...</td>\n      <td>7.7</td>\n      <td>2</td>\n      <td>made</td>\n      <td>Anderson, Alan</td>\n      <td>101187</td>\n      <td>1.3</td>\n      <td>1</td>\n      <td>2</td>\n      <td>Brian Roberts</td>\n      <td>203148</td>\n    </tr>\n    <tr>\n      <th>1</th>\n      <td>21400899</td>\n      <td>MAR 04, 2015 - CHA @ BKN</td>\n      <td>A</td>\n      <td>W</td>\n      <td>24</td>\n      <td>2</td>\n      <td>1</td>\n      <td>0:14</td>\n      <td>3.4</td>\n      <td>0</td>\n      <td>...</td>\n      <td>28.2</td>\n      <td>3</td>\n      <td>missed</td>\n      <td>Bogdanovic, Bojan</td>\n      <td>202711</td>\n      <td>6.1</td>\n      <td>0</td>\n      <td>0</td>\n      <td>Brian Roberts</td>\n      <td>203148</td>\n    </tr>\n    <tr>\n      <th>2</th>\n      <td>21400899</td>\n      <td>MAR 04, 2015 - CHA @ BKN</td>\n      <td>A</td>\n      <td>W</td>\n      <td>24</td>\n      <td>3</td>\n      <td>1</td>\n      <td>0:00</td>\n      <td>NaN</td>\n      <td>3</td>\n      <td>...</td>\n      <td>10.1</td>\n      <td>2</td>\n      <td>missed</td>\n      <td>Bogdanovic, Bojan</td>\n      <td>202711</td>\n      <td>0.9</td>\n      <td>0</td>\n      <td>0</td>\n      <td>Brian Roberts</td>\n      <td>203148</td>\n    </tr>\n    <tr>\n      <th>3</th>\n      <td>21400899</td>\n      <td>MAR 04, 2015 - CHA @ BKN</td>\n      <td>A</td>\n      <td>W</td>\n      <td>24</td>\n      <td>4</td>\n      <td>2</td>\n      <td>11:47</td>\n      <td>10.3</td>\n      <td>2</td>\n      <td>...</td>\n      <td>17.2</td>\n      <td>2</td>\n      <td>missed</td>\n      <td>Brown, Markel</td>\n      <td>203900</td>\n      <td>3.4</td>\n      <td>0</td>\n      <td>0</td>\n      <td>Brian Roberts</td>\n      <td>203148</td>\n    </tr>\n    <tr>\n      <th>4</th>\n      <td>21400899</td>\n      <td>MAR 04, 2015 - CHA @ BKN</td>\n      <td>A</td>\n      <td>W</td>\n      <td>24</td>\n      <td>5</td>\n      <td>2</td>\n      <td>10:34</td>\n      <td>10.9</td>\n      <td>2</td>\n      <td>...</td>\n      <td>3.7</td>\n      <td>2</td>\n      <td>missed</td>\n      <td>Young, Thaddeus</td>\n      <td>201152</td>\n      <td>1.1</td>\n      <td>0</td>\n      <td>0</td>\n      <td>Brian Roberts</td>\n      <td>203148</td>\n    </tr>\n    <tr>\n      <th>...</th>\n      <td>...</td>\n      <td>...</td>\n      <td>...</td>\n      <td>...</td>\n      <td>...</td>\n      <td>...</td>\n      <td>...</td>\n      <td>...</td>\n      <td>...</td>\n      <td>...</td>\n      <td>...</td>\n      <td>...</td>\n      <td>...</td>\n      <td>...</td>\n      <td>...</td>\n      <td>...</td>\n      <td>...</td>\n      <td>...</td>\n      <td>...</td>\n      <td>...</td>\n      <td>...</td>\n    </tr>\n    <tr>\n      <th>128064</th>\n      <td>21400006</td>\n      <td>OCT 29, 2014 - BKN @ BOS</td>\n      <td>A</td>\n      <td>L</td>\n      <td>-16</td>\n      <td>5</td>\n      <td>3</td>\n      <td>1:52</td>\n      <td>18.3</td>\n      <td>5</td>\n      <td>...</td>\n      <td>8.7</td>\n      <td>2</td>\n      <td>missed</td>\n      <td>Smart, Marcus</td>\n      <td>203935</td>\n      <td>0.8</td>\n      <td>0</td>\n      <td>0</td>\n      <td>Jarrett Jack</td>\n      <td>101127</td>\n    </tr>\n    <tr>\n      <th>128065</th>\n      <td>21400006</td>\n      <td>OCT 29, 2014 - BKN @ BOS</td>\n      <td>A</td>\n      <td>L</td>\n      <td>-16</td>\n      <td>6</td>\n      <td>4</td>\n      <td>11:28</td>\n      <td>19.8</td>\n      <td>4</td>\n      <td>...</td>\n      <td>0.6</td>\n      <td>2</td>\n      <td>made</td>\n      <td>Turner, Evan</td>\n      <td>202323</td>\n      <td>0.6</td>\n      <td>1</td>\n      <td>2</td>\n      <td>Jarrett Jack</td>\n      <td>101127</td>\n    </tr>\n    <tr>\n      <th>128066</th>\n      <td>21400006</td>\n      <td>OCT 29, 2014 - BKN @ BOS</td>\n      <td>A</td>\n      <td>L</td>\n      <td>-16</td>\n      <td>7</td>\n      <td>4</td>\n      <td>11:10</td>\n      <td>23.0</td>\n      <td>2</td>\n      <td>...</td>\n      <td>16.9</td>\n      <td>2</td>\n      <td>made</td>\n      <td>Thornton, Marcus</td>\n      <td>201977</td>\n      <td>4.2</td>\n      <td>1</td>\n      <td>2</td>\n      <td>Jarrett Jack</td>\n      <td>101127</td>\n    </tr>\n    <tr>\n      <th>128067</th>\n      <td>21400006</td>\n      <td>OCT 29, 2014 - BKN @ BOS</td>\n      <td>A</td>\n      <td>L</td>\n      <td>-16</td>\n      <td>8</td>\n      <td>4</td>\n      <td>2:37</td>\n      <td>9.1</td>\n      <td>4</td>\n      <td>...</td>\n      <td>18.3</td>\n      <td>2</td>\n      <td>missed</td>\n      <td>Bradley, Avery</td>\n      <td>202340</td>\n      <td>3.0</td>\n      <td>0</td>\n      <td>0</td>\n      <td>Jarrett Jack</td>\n      <td>101127</td>\n    </tr>\n    <tr>\n      <th>128068</th>\n      <td>21400006</td>\n      <td>OCT 29, 2014 - BKN @ BOS</td>\n      <td>A</td>\n      <td>L</td>\n      <td>-16</td>\n      <td>9</td>\n      <td>4</td>\n      <td>0:12</td>\n      <td>NaN</td>\n      <td>5</td>\n      <td>...</td>\n      <td>5.1</td>\n      <td>2</td>\n      <td>made</td>\n      <td>Bradley, Avery</td>\n      <td>202340</td>\n      <td>2.3</td>\n      <td>1</td>\n      <td>2</td>\n      <td>Jarrett Jack</td>\n      <td>101127</td>\n    </tr>\n  </tbody>\n</table>\n<p>128069 rows × 21 columns</p>\n</div>",
      "text/plain": [
       "         GAME_ID                   MATCHUP LOCATION  W  FINAL_MARGIN  \\\n",
       "0       21400899  MAR 04, 2015 - CHA @ BKN        A  W            24   \n",
       "1       21400899  MAR 04, 2015 - CHA @ BKN        A  W            24   \n",
       "2       21400899  MAR 04, 2015 - CHA @ BKN        A  W            24   \n",
       "3       21400899  MAR 04, 2015 - CHA @ BKN        A  W            24   \n",
       "4       21400899  MAR 04, 2015 - CHA @ BKN        A  W            24   \n",
       "...          ...                       ...      ... ..           ...   \n",
       "128064  21400006  OCT 29, 2014 - BKN @ BOS        A  L           -16   \n",
       "128065  21400006  OCT 29, 2014 - BKN @ BOS        A  L           -16   \n",
       "128066  21400006  OCT 29, 2014 - BKN @ BOS        A  L           -16   \n",
       "128067  21400006  OCT 29, 2014 - BKN @ BOS        A  L           -16   \n",
       "128068  21400006  OCT 29, 2014 - BKN @ BOS        A  L           -16   \n",
       "\n",
       "        SHOT_NUMBER  PERIOD GAME_CLOCK  SHOT_CLOCK  DRIBBLES  ...  SHOT_DIST  \\\n",
       "0                 1       1       1:09        10.8         2  ...        7.7   \n",
       "1                 2       1       0:14         3.4         0  ...       28.2   \n",
       "2                 3       1       0:00         NaN         3  ...       10.1   \n",
       "3                 4       2      11:47        10.3         2  ...       17.2   \n",
       "4                 5       2      10:34        10.9         2  ...        3.7   \n",
       "...             ...     ...        ...         ...       ...  ...        ...   \n",
       "128064            5       3       1:52        18.3         5  ...        8.7   \n",
       "128065            6       4      11:28        19.8         4  ...        0.6   \n",
       "128066            7       4      11:10        23.0         2  ...       16.9   \n",
       "128067            8       4       2:37         9.1         4  ...       18.3   \n",
       "128068            9       4       0:12         NaN         5  ...        5.1   \n",
       "\n",
       "        PTS_TYPE  SHOT_RESULT   CLOSEST_DEFENDER CLOSEST_DEFENDER_PLAYER_ID  \\\n",
       "0              2         made     Anderson, Alan                     101187   \n",
       "1              3       missed  Bogdanovic, Bojan                     202711   \n",
       "2              2       missed  Bogdanovic, Bojan                     202711   \n",
       "3              2       missed      Brown, Markel                     203900   \n",
       "4              2       missed    Young, Thaddeus                     201152   \n",
       "...          ...          ...                ...                        ...   \n",
       "128064         2       missed      Smart, Marcus                     203935   \n",
       "128065         2         made       Turner, Evan                     202323   \n",
       "128066         2         made   Thornton, Marcus                     201977   \n",
       "128067         2       missed     Bradley, Avery                     202340   \n",
       "128068         2         made     Bradley, Avery                     202340   \n",
       "\n",
       "        CLOSE_DEF_DIST  FGM  PTS    player_name player_id  \n",
       "0                  1.3    1    2  Brian Roberts    203148  \n",
       "1                  6.1    0    0  Brian Roberts    203148  \n",
       "2                  0.9    0    0  Brian Roberts    203148  \n",
       "3                  3.4    0    0  Brian Roberts    203148  \n",
       "4                  1.1    0    0  Brian Roberts    203148  \n",
       "...                ...  ...  ...            ...       ...  \n",
       "128064             0.8    0    0   Jarrett Jack    101127  \n",
       "128065             0.6    1    2   Jarrett Jack    101127  \n",
       "128066             4.2    1    2   Jarrett Jack    101127  \n",
       "128067             3.0    0    0   Jarrett Jack    101127  \n",
       "128068             2.3    1    2   Jarrett Jack    101127  \n",
       "\n",
       "[128069 rows x 21 columns]"
      ]
     },
     "execution_count": 26,
     "metadata": {},
     "output_type": "execute_result"
    }
   ],
   "source": [
    "shot_df['player_name'] = shot_df['player_name'].str.title()\n",
    "shot_df"
   ]
  },
  {
   "cell_type": "code",
   "execution_count": 33,
   "metadata": {},
   "outputs": [
    {
     "data": {
      "text/html": "<div>\n<style scoped>\n    .dataframe tbody tr th:only-of-type {\n        vertical-align: middle;\n    }\n\n    .dataframe tbody tr th {\n        vertical-align: top;\n    }\n\n    .dataframe thead th {\n        text-align: right;\n    }\n</style>\n<table border=\"1\" class=\"dataframe\">\n  <thead>\n    <tr style=\"text-align: right;\">\n      <th></th>\n      <th>MATCHUP</th>\n      <th>SHOT_NUMBER</th>\n      <th>GAME_CLOCK</th>\n      <th>SHOT_DIST</th>\n      <th>PTS_TYPE</th>\n      <th>SHOT_RESULT</th>\n      <th>FGM</th>\n      <th>PTS</th>\n      <th>player_name</th>\n    </tr>\n  </thead>\n  <tbody>\n    <tr>\n      <th>0</th>\n      <td>MAR 04, 2015 - CHA @ BKN</td>\n      <td>1</td>\n      <td>1:09</td>\n      <td>7.7</td>\n      <td>2</td>\n      <td>made</td>\n      <td>1</td>\n      <td>2</td>\n      <td>Brian Roberts</td>\n    </tr>\n    <tr>\n      <th>1</th>\n      <td>MAR 04, 2015 - CHA @ BKN</td>\n      <td>2</td>\n      <td>0:14</td>\n      <td>28.2</td>\n      <td>3</td>\n      <td>missed</td>\n      <td>0</td>\n      <td>0</td>\n      <td>Brian Roberts</td>\n    </tr>\n    <tr>\n      <th>2</th>\n      <td>MAR 04, 2015 - CHA @ BKN</td>\n      <td>3</td>\n      <td>0:00</td>\n      <td>10.1</td>\n      <td>2</td>\n      <td>missed</td>\n      <td>0</td>\n      <td>0</td>\n      <td>Brian Roberts</td>\n    </tr>\n    <tr>\n      <th>3</th>\n      <td>MAR 04, 2015 - CHA @ BKN</td>\n      <td>4</td>\n      <td>11:47</td>\n      <td>17.2</td>\n      <td>2</td>\n      <td>missed</td>\n      <td>0</td>\n      <td>0</td>\n      <td>Brian Roberts</td>\n    </tr>\n    <tr>\n      <th>4</th>\n      <td>MAR 04, 2015 - CHA @ BKN</td>\n      <td>5</td>\n      <td>10:34</td>\n      <td>3.7</td>\n      <td>2</td>\n      <td>missed</td>\n      <td>0</td>\n      <td>0</td>\n      <td>Brian Roberts</td>\n    </tr>\n    <tr>\n      <th>...</th>\n      <td>...</td>\n      <td>...</td>\n      <td>...</td>\n      <td>...</td>\n      <td>...</td>\n      <td>...</td>\n      <td>...</td>\n      <td>...</td>\n      <td>...</td>\n    </tr>\n    <tr>\n      <th>128064</th>\n      <td>OCT 29, 2014 - BKN @ BOS</td>\n      <td>5</td>\n      <td>1:52</td>\n      <td>8.7</td>\n      <td>2</td>\n      <td>missed</td>\n      <td>0</td>\n      <td>0</td>\n      <td>Jarrett Jack</td>\n    </tr>\n    <tr>\n      <th>128065</th>\n      <td>OCT 29, 2014 - BKN @ BOS</td>\n      <td>6</td>\n      <td>11:28</td>\n      <td>0.6</td>\n      <td>2</td>\n      <td>made</td>\n      <td>1</td>\n      <td>2</td>\n      <td>Jarrett Jack</td>\n    </tr>\n    <tr>\n      <th>128066</th>\n      <td>OCT 29, 2014 - BKN @ BOS</td>\n      <td>7</td>\n      <td>11:10</td>\n      <td>16.9</td>\n      <td>2</td>\n      <td>made</td>\n      <td>1</td>\n      <td>2</td>\n      <td>Jarrett Jack</td>\n    </tr>\n    <tr>\n      <th>128067</th>\n      <td>OCT 29, 2014 - BKN @ BOS</td>\n      <td>8</td>\n      <td>2:37</td>\n      <td>18.3</td>\n      <td>2</td>\n      <td>missed</td>\n      <td>0</td>\n      <td>0</td>\n      <td>Jarrett Jack</td>\n    </tr>\n    <tr>\n      <th>128068</th>\n      <td>OCT 29, 2014 - BKN @ BOS</td>\n      <td>9</td>\n      <td>0:12</td>\n      <td>5.1</td>\n      <td>2</td>\n      <td>made</td>\n      <td>1</td>\n      <td>2</td>\n      <td>Jarrett Jack</td>\n    </tr>\n  </tbody>\n</table>\n<p>128069 rows × 9 columns</p>\n</div>",
      "text/plain": [
       "                         MATCHUP  SHOT_NUMBER GAME_CLOCK  SHOT_DIST  PTS_TYPE  \\\n",
       "0       MAR 04, 2015 - CHA @ BKN            1       1:09        7.7         2   \n",
       "1       MAR 04, 2015 - CHA @ BKN            2       0:14       28.2         3   \n",
       "2       MAR 04, 2015 - CHA @ BKN            3       0:00       10.1         2   \n",
       "3       MAR 04, 2015 - CHA @ BKN            4      11:47       17.2         2   \n",
       "4       MAR 04, 2015 - CHA @ BKN            5      10:34        3.7         2   \n",
       "...                          ...          ...        ...        ...       ...   \n",
       "128064  OCT 29, 2014 - BKN @ BOS            5       1:52        8.7         2   \n",
       "128065  OCT 29, 2014 - BKN @ BOS            6      11:28        0.6         2   \n",
       "128066  OCT 29, 2014 - BKN @ BOS            7      11:10       16.9         2   \n",
       "128067  OCT 29, 2014 - BKN @ BOS            8       2:37       18.3         2   \n",
       "128068  OCT 29, 2014 - BKN @ BOS            9       0:12        5.1         2   \n",
       "\n",
       "       SHOT_RESULT  FGM  PTS    player_name  \n",
       "0             made    1    2  Brian Roberts  \n",
       "1           missed    0    0  Brian Roberts  \n",
       "2           missed    0    0  Brian Roberts  \n",
       "3           missed    0    0  Brian Roberts  \n",
       "4           missed    0    0  Brian Roberts  \n",
       "...            ...  ...  ...            ...  \n",
       "128064      missed    0    0   Jarrett Jack  \n",
       "128065        made    1    2   Jarrett Jack  \n",
       "128066        made    1    2   Jarrett Jack  \n",
       "128067      missed    0    0   Jarrett Jack  \n",
       "128068        made    1    2   Jarrett Jack  \n",
       "\n",
       "[128069 rows x 9 columns]"
      ]
     },
     "execution_count": 33,
     "metadata": {},
     "output_type": "execute_result"
    }
   ],
   "source": [
    "shot_df_cols = ['MATCHUP', 'SHOT_NUMBER', 'GAME_CLOCK', 'SHOT_DIST', 'PTS_TYPE','SHOT_RESULT','FGM','PTS', 'player_name']\n",
    "shot_df_transformed = shot_df[shot_df_cols].copy()\n",
    "shot_df_transformed"
   ]
  },
  {
   "cell_type": "code",
   "execution_count": 47,
   "metadata": {},
   "outputs": [
    {
     "data": {
      "text/html": "<div>\n<style scoped>\n    .dataframe tbody tr th:only-of-type {\n        vertical-align: middle;\n    }\n\n    .dataframe tbody tr th {\n        vertical-align: top;\n    }\n\n    .dataframe thead th {\n        text-align: right;\n    }\n</style>\n<table border=\"1\" class=\"dataframe\">\n  <thead>\n    <tr style=\"text-align: right;\">\n      <th></th>\n      <th>matchup</th>\n      <th>shot_number</th>\n      <th>game_clock</th>\n      <th>shot_dist</th>\n      <th>pts_type</th>\n      <th>shot_result</th>\n      <th>fgm</th>\n      <th>pts</th>\n      <th>player_name</th>\n    </tr>\n  </thead>\n  <tbody>\n    <tr>\n      <th>0</th>\n      <td>MAR 04, 2015 - CHA @ BKN</td>\n      <td>1</td>\n      <td>1:09</td>\n      <td>7.7</td>\n      <td>2</td>\n      <td>made</td>\n      <td>1</td>\n      <td>2</td>\n      <td>Brian Roberts</td>\n    </tr>\n    <tr>\n      <th>1</th>\n      <td>MAR 04, 2015 - CHA @ BKN</td>\n      <td>2</td>\n      <td>0:14</td>\n      <td>28.2</td>\n      <td>3</td>\n      <td>missed</td>\n      <td>0</td>\n      <td>0</td>\n      <td>Brian Roberts</td>\n    </tr>\n    <tr>\n      <th>2</th>\n      <td>MAR 04, 2015 - CHA @ BKN</td>\n      <td>3</td>\n      <td>0:00</td>\n      <td>10.1</td>\n      <td>2</td>\n      <td>missed</td>\n      <td>0</td>\n      <td>0</td>\n      <td>Brian Roberts</td>\n    </tr>\n    <tr>\n      <th>3</th>\n      <td>MAR 04, 2015 - CHA @ BKN</td>\n      <td>4</td>\n      <td>11:47</td>\n      <td>17.2</td>\n      <td>2</td>\n      <td>missed</td>\n      <td>0</td>\n      <td>0</td>\n      <td>Brian Roberts</td>\n    </tr>\n    <tr>\n      <th>4</th>\n      <td>MAR 04, 2015 - CHA @ BKN</td>\n      <td>5</td>\n      <td>10:34</td>\n      <td>3.7</td>\n      <td>2</td>\n      <td>missed</td>\n      <td>0</td>\n      <td>0</td>\n      <td>Brian Roberts</td>\n    </tr>\n    <tr>\n      <th>...</th>\n      <td>...</td>\n      <td>...</td>\n      <td>...</td>\n      <td>...</td>\n      <td>...</td>\n      <td>...</td>\n      <td>...</td>\n      <td>...</td>\n      <td>...</td>\n    </tr>\n    <tr>\n      <th>128064</th>\n      <td>OCT 29, 2014 - BKN @ BOS</td>\n      <td>5</td>\n      <td>1:52</td>\n      <td>8.7</td>\n      <td>2</td>\n      <td>missed</td>\n      <td>0</td>\n      <td>0</td>\n      <td>Jarrett Jack</td>\n    </tr>\n    <tr>\n      <th>128065</th>\n      <td>OCT 29, 2014 - BKN @ BOS</td>\n      <td>6</td>\n      <td>11:28</td>\n      <td>0.6</td>\n      <td>2</td>\n      <td>made</td>\n      <td>1</td>\n      <td>2</td>\n      <td>Jarrett Jack</td>\n    </tr>\n    <tr>\n      <th>128066</th>\n      <td>OCT 29, 2014 - BKN @ BOS</td>\n      <td>7</td>\n      <td>11:10</td>\n      <td>16.9</td>\n      <td>2</td>\n      <td>made</td>\n      <td>1</td>\n      <td>2</td>\n      <td>Jarrett Jack</td>\n    </tr>\n    <tr>\n      <th>128067</th>\n      <td>OCT 29, 2014 - BKN @ BOS</td>\n      <td>8</td>\n      <td>2:37</td>\n      <td>18.3</td>\n      <td>2</td>\n      <td>missed</td>\n      <td>0</td>\n      <td>0</td>\n      <td>Jarrett Jack</td>\n    </tr>\n    <tr>\n      <th>128068</th>\n      <td>OCT 29, 2014 - BKN @ BOS</td>\n      <td>9</td>\n      <td>0:12</td>\n      <td>5.1</td>\n      <td>2</td>\n      <td>made</td>\n      <td>1</td>\n      <td>2</td>\n      <td>Jarrett Jack</td>\n    </tr>\n  </tbody>\n</table>\n<p>128069 rows × 9 columns</p>\n</div>",
      "text/plain": [
       "                         matchup  shot_number game_clock  shot_dist  pts_type  \\\n",
       "0       MAR 04, 2015 - CHA @ BKN            1       1:09        7.7         2   \n",
       "1       MAR 04, 2015 - CHA @ BKN            2       0:14       28.2         3   \n",
       "2       MAR 04, 2015 - CHA @ BKN            3       0:00       10.1         2   \n",
       "3       MAR 04, 2015 - CHA @ BKN            4      11:47       17.2         2   \n",
       "4       MAR 04, 2015 - CHA @ BKN            5      10:34        3.7         2   \n",
       "...                          ...          ...        ...        ...       ...   \n",
       "128064  OCT 29, 2014 - BKN @ BOS            5       1:52        8.7         2   \n",
       "128065  OCT 29, 2014 - BKN @ BOS            6      11:28        0.6         2   \n",
       "128066  OCT 29, 2014 - BKN @ BOS            7      11:10       16.9         2   \n",
       "128067  OCT 29, 2014 - BKN @ BOS            8       2:37       18.3         2   \n",
       "128068  OCT 29, 2014 - BKN @ BOS            9       0:12        5.1         2   \n",
       "\n",
       "       shot_result  fgm  pts    player_name  \n",
       "0             made    1    2  Brian Roberts  \n",
       "1           missed    0    0  Brian Roberts  \n",
       "2           missed    0    0  Brian Roberts  \n",
       "3           missed    0    0  Brian Roberts  \n",
       "4           missed    0    0  Brian Roberts  \n",
       "...            ...  ...  ...            ...  \n",
       "128064      missed    0    0   Jarrett Jack  \n",
       "128065        made    1    2   Jarrett Jack  \n",
       "128066        made    1    2   Jarrett Jack  \n",
       "128067      missed    0    0   Jarrett Jack  \n",
       "128068        made    1    2   Jarrett Jack  \n",
       "\n",
       "[128069 rows x 9 columns]"
      ]
     },
     "execution_count": 47,
     "metadata": {},
     "output_type": "execute_result"
    }
   ],
   "source": [
    "colu={}\n",
    "for col in shot_df_transformed.columns:\n",
    "    colu[col]=col.lower()\n",
    "colu\n",
    "shot_df_transform = shot_df_transformed.rename(columns=colu)\n",
    "shot_df_transform"
   ]
  },
  {
   "cell_type": "code",
   "execution_count": null,
   "metadata": {},
   "outputs": [],
   "source": [
    "rds_connection_string = \"postgres:FNlenh97@localhost:5432/NBA_DB\"\r\n",
    "engine = create_engine(f'postgresql://{rds_connection_string}')"
   ]
  },
  {
   "cell_type": "code",
   "execution_count": null,
   "metadata": {},
   "outputs": [],
   "source": [
    "shot_df_transform.to_sql(name='shot_logs', con=engine, if_exists='append', index=False)"
   ]
  },
  {
   "cell_type": "code",
   "execution_count": null,
   "metadata": {},
   "outputs": [],
   "source": [
    "pd.read_sql_query('select * from shot_logs', con=engine).head()"
   ]
  }
 ],
 "metadata": {
  "kernelspec": {
   "display_name": "Python 3.8.5 64-bit ('base': conda)",
   "name": "python385jvsc74a57bd07514b17981d25e8b0fd5af6c271cd77efb8109f2c548140e5cb15a159b79c2a1"
  },
  "language_info": {
   "codemirror_mode": {
    "name": "ipython",
    "version": 3
   },
   "file_extension": ".py",
   "mimetype": "text/x-python",
   "name": "python",
   "nbconvert_exporter": "python",
   "pygments_lexer": "ipython3",
   "version": "3.8.5"
  }
 },
 "nbformat": 4,
 "nbformat_minor": 2
}