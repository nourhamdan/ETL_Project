{
 "cells": [
  {
   "cell_type": "code",
   "execution_count": 1,
   "metadata": {},
   "outputs": [],
   "source": [
    "import pandas as pd\r\n",
    "from sqlalchemy import create_engine"
   ]
  },
  {
   "cell_type": "code",
   "execution_count": 2,
   "metadata": {},
   "outputs": [
    {
     "data": {
      "text/html": "<div>\n<style scoped>\n    .dataframe tbody tr th:only-of-type {\n        vertical-align: middle;\n    }\n\n    .dataframe tbody tr th {\n        vertical-align: top;\n    }\n\n    .dataframe thead th {\n        text-align: right;\n    }\n</style>\n<table border=\"1\" class=\"dataframe\">\n  <thead>\n    <tr style=\"text-align: right;\">\n      <th></th>\n      <th>GAME_ID</th>\n      <th>MATCHUP</th>\n      <th>LOCATION</th>\n      <th>W</th>\n      <th>FINAL_MARGIN</th>\n      <th>SHOT_NUMBER</th>\n      <th>PERIOD</th>\n      <th>GAME_CLOCK</th>\n      <th>SHOT_CLOCK</th>\n      <th>DRIBBLES</th>\n      <th>...</th>\n      <th>SHOT_DIST</th>\n      <th>PTS_TYPE</th>\n      <th>SHOT_RESULT</th>\n      <th>CLOSEST_DEFENDER</th>\n      <th>CLOSEST_DEFENDER_PLAYER_ID</th>\n      <th>CLOSE_DEF_DIST</th>\n      <th>FGM</th>\n      <th>PTS</th>\n      <th>player_name</th>\n      <th>player_id</th>\n    </tr>\n  </thead>\n  <tbody>\n    <tr>\n      <th>0</th>\n      <td>21400899</td>\n      <td>MAR 04, 2015 - CHA @ BKN</td>\n      <td>A</td>\n      <td>W</td>\n      <td>24</td>\n      <td>1</td>\n      <td>1</td>\n      <td>1:09</td>\n      <td>10.8</td>\n      <td>2</td>\n      <td>...</td>\n      <td>7.7</td>\n      <td>2</td>\n      <td>made</td>\n      <td>Anderson, Alan</td>\n      <td>101187</td>\n      <td>1.3</td>\n      <td>1</td>\n      <td>2</td>\n      <td>brian roberts</td>\n      <td>203148</td>\n    </tr>\n    <tr>\n      <th>1</th>\n      <td>21400899</td>\n      <td>MAR 04, 2015 - CHA @ BKN</td>\n      <td>A</td>\n      <td>W</td>\n      <td>24</td>\n      <td>2</td>\n      <td>1</td>\n      <td>0:14</td>\n      <td>3.4</td>\n      <td>0</td>\n      <td>...</td>\n      <td>28.2</td>\n      <td>3</td>\n      <td>missed</td>\n      <td>Bogdanovic, Bojan</td>\n      <td>202711</td>\n      <td>6.1</td>\n      <td>0</td>\n      <td>0</td>\n      <td>brian roberts</td>\n      <td>203148</td>\n    </tr>\n    <tr>\n      <th>2</th>\n      <td>21400899</td>\n      <td>MAR 04, 2015 - CHA @ BKN</td>\n      <td>A</td>\n      <td>W</td>\n      <td>24</td>\n      <td>3</td>\n      <td>1</td>\n      <td>0:00</td>\n      <td>NaN</td>\n      <td>3</td>\n      <td>...</td>\n      <td>10.1</td>\n      <td>2</td>\n      <td>missed</td>\n      <td>Bogdanovic, Bojan</td>\n      <td>202711</td>\n      <td>0.9</td>\n      <td>0</td>\n      <td>0</td>\n      <td>brian roberts</td>\n      <td>203148</td>\n    </tr>\n    <tr>\n      <th>3</th>\n      <td>21400899</td>\n      <td>MAR 04, 2015 - CHA @ BKN</td>\n      <td>A</td>\n      <td>W</td>\n      <td>24</td>\n      <td>4</td>\n      <td>2</td>\n      <td>11:47</td>\n      <td>10.3</td>\n      <td>2</td>\n      <td>...</td>\n      <td>17.2</td>\n      <td>2</td>\n      <td>missed</td>\n      <td>Brown, Markel</td>\n      <td>203900</td>\n      <td>3.4</td>\n      <td>0</td>\n      <td>0</td>\n      <td>brian roberts</td>\n      <td>203148</td>\n    </tr>\n    <tr>\n      <th>4</th>\n      <td>21400899</td>\n      <td>MAR 04, 2015 - CHA @ BKN</td>\n      <td>A</td>\n      <td>W</td>\n      <td>24</td>\n      <td>5</td>\n      <td>2</td>\n      <td>10:34</td>\n      <td>10.9</td>\n      <td>2</td>\n      <td>...</td>\n      <td>3.7</td>\n      <td>2</td>\n      <td>missed</td>\n      <td>Young, Thaddeus</td>\n      <td>201152</td>\n      <td>1.1</td>\n      <td>0</td>\n      <td>0</td>\n      <td>brian roberts</td>\n      <td>203148</td>\n    </tr>\n  </tbody>\n</table>\n<p>5 rows × 21 columns</p>\n</div>",
      "text/plain": "    GAME_ID                   MATCHUP LOCATION  W  FINAL_MARGIN  SHOT_NUMBER  \\\n0  21400899  MAR 04, 2015 - CHA @ BKN        A  W            24            1   \n1  21400899  MAR 04, 2015 - CHA @ BKN        A  W            24            2   \n2  21400899  MAR 04, 2015 - CHA @ BKN        A  W            24            3   \n3  21400899  MAR 04, 2015 - CHA @ BKN        A  W            24            4   \n4  21400899  MAR 04, 2015 - CHA @ BKN        A  W            24            5   \n\n   PERIOD GAME_CLOCK  SHOT_CLOCK  DRIBBLES  ...  SHOT_DIST  PTS_TYPE  \\\n0       1       1:09        10.8         2  ...        7.7         2   \n1       1       0:14         3.4         0  ...       28.2         3   \n2       1       0:00         NaN         3  ...       10.1         2   \n3       2      11:47        10.3         2  ...       17.2         2   \n4       2      10:34        10.9         2  ...        3.7         2   \n\n   SHOT_RESULT   CLOSEST_DEFENDER CLOSEST_DEFENDER_PLAYER_ID  CLOSE_DEF_DIST  \\\n0         made     Anderson, Alan                     101187             1.3   \n1       missed  Bogdanovic, Bojan                     202711             6.1   \n2       missed  Bogdanovic, Bojan                     202711             0.9   \n3       missed      Brown, Markel                     203900             3.4   \n4       missed    Young, Thaddeus                     201152             1.1   \n\n   FGM  PTS    player_name player_id  \n0    1    2  brian roberts    203148  \n1    0    0  brian roberts    203148  \n2    0    0  brian roberts    203148  \n3    0    0  brian roberts    203148  \n4    0    0  brian roberts    203148  \n\n[5 rows x 21 columns]"
     },
     "execution_count": 2,
     "metadata": {},
     "output_type": "execute_result"
    }
   ],
   "source": [
    "shot_log_file = \"Resources/shot_logs.csv\"\n",
    "shot_df = pd.read_csv(shot_log_file)\n",
    "shot_df.head()\n"
   ]
  },
  {
   "cell_type": "code",
   "execution_count": 3,
   "metadata": {},
   "outputs": [
    {
     "data": {
      "text/html": "<div>\n<style scoped>\n    .dataframe tbody tr th:only-of-type {\n        vertical-align: middle;\n    }\n\n    .dataframe tbody tr th {\n        vertical-align: top;\n    }\n\n    .dataframe thead th {\n        text-align: right;\n    }\n</style>\n<table border=\"1\" class=\"dataframe\">\n  <thead>\n    <tr style=\"text-align: right;\">\n      <th></th>\n      <th>GAME_ID</th>\n      <th>MATCHUP</th>\n      <th>LOCATION</th>\n      <th>W</th>\n      <th>FINAL_MARGIN</th>\n      <th>SHOT_NUMBER</th>\n      <th>PERIOD</th>\n      <th>GAME_CLOCK</th>\n      <th>SHOT_CLOCK</th>\n      <th>DRIBBLES</th>\n      <th>...</th>\n      <th>SHOT_DIST</th>\n      <th>PTS_TYPE</th>\n      <th>SHOT_RESULT</th>\n      <th>CLOSEST_DEFENDER</th>\n      <th>CLOSEST_DEFENDER_PLAYER_ID</th>\n      <th>CLOSE_DEF_DIST</th>\n      <th>FGM</th>\n      <th>PTS</th>\n      <th>player_name</th>\n      <th>player_id</th>\n    </tr>\n  </thead>\n  <tbody>\n    <tr>\n      <th>0</th>\n      <td>21400899</td>\n      <td>MAR 04, 2015 - CHA @ BKN</td>\n      <td>A</td>\n      <td>W</td>\n      <td>24</td>\n      <td>1</td>\n      <td>1</td>\n      <td>1:09</td>\n      <td>10.8</td>\n      <td>2</td>\n      <td>...</td>\n      <td>7.7</td>\n      <td>2</td>\n      <td>made</td>\n      <td>Anderson, Alan</td>\n      <td>101187</td>\n      <td>1.3</td>\n      <td>1</td>\n      <td>2</td>\n      <td>Brian Roberts</td>\n      <td>203148</td>\n    </tr>\n    <tr>\n      <th>1</th>\n      <td>21400899</td>\n      <td>MAR 04, 2015 - CHA @ BKN</td>\n      <td>A</td>\n      <td>W</td>\n      <td>24</td>\n      <td>2</td>\n      <td>1</td>\n      <td>0:14</td>\n      <td>3.4</td>\n      <td>0</td>\n      <td>...</td>\n      <td>28.2</td>\n      <td>3</td>\n      <td>missed</td>\n      <td>Bogdanovic, Bojan</td>\n      <td>202711</td>\n      <td>6.1</td>\n      <td>0</td>\n      <td>0</td>\n      <td>Brian Roberts</td>\n      <td>203148</td>\n    </tr>\n    <tr>\n      <th>2</th>\n      <td>21400899</td>\n      <td>MAR 04, 2015 - CHA @ BKN</td>\n      <td>A</td>\n      <td>W</td>\n      <td>24</td>\n      <td>3</td>\n      <td>1</td>\n      <td>0:00</td>\n      <td>NaN</td>\n      <td>3</td>\n      <td>...</td>\n      <td>10.1</td>\n      <td>2</td>\n      <td>missed</td>\n      <td>Bogdanovic, Bojan</td>\n      <td>202711</td>\n      <td>0.9</td>\n      <td>0</td>\n      <td>0</td>\n      <td>Brian Roberts</td>\n      <td>203148</td>\n    </tr>\n    <tr>\n      <th>3</th>\n      <td>21400899</td>\n      <td>MAR 04, 2015 - CHA @ BKN</td>\n      <td>A</td>\n      <td>W</td>\n      <td>24</td>\n      <td>4</td>\n      <td>2</td>\n      <td>11:47</td>\n      <td>10.3</td>\n      <td>2</td>\n      <td>...</td>\n      <td>17.2</td>\n      <td>2</td>\n      <td>missed</td>\n      <td>Brown, Markel</td>\n      <td>203900</td>\n      <td>3.4</td>\n      <td>0</td>\n      <td>0</td>\n      <td>Brian Roberts</td>\n      <td>203148</td>\n    </tr>\n    <tr>\n      <th>4</th>\n      <td>21400899</td>\n      <td>MAR 04, 2015 - CHA @ BKN</td>\n      <td>A</td>\n      <td>W</td>\n      <td>24</td>\n      <td>5</td>\n      <td>2</td>\n      <td>10:34</td>\n      <td>10.9</td>\n      <td>2</td>\n      <td>...</td>\n      <td>3.7</td>\n      <td>2</td>\n      <td>missed</td>\n      <td>Young, Thaddeus</td>\n      <td>201152</td>\n      <td>1.1</td>\n      <td>0</td>\n      <td>0</td>\n      <td>Brian Roberts</td>\n      <td>203148</td>\n    </tr>\n  </tbody>\n</table>\n<p>5 rows × 21 columns</p>\n</div>",
      "text/plain": "    GAME_ID                   MATCHUP LOCATION  W  FINAL_MARGIN  SHOT_NUMBER  \\\n0  21400899  MAR 04, 2015 - CHA @ BKN        A  W            24            1   \n1  21400899  MAR 04, 2015 - CHA @ BKN        A  W            24            2   \n2  21400899  MAR 04, 2015 - CHA @ BKN        A  W            24            3   \n3  21400899  MAR 04, 2015 - CHA @ BKN        A  W            24            4   \n4  21400899  MAR 04, 2015 - CHA @ BKN        A  W            24            5   \n\n   PERIOD GAME_CLOCK  SHOT_CLOCK  DRIBBLES  ...  SHOT_DIST  PTS_TYPE  \\\n0       1       1:09        10.8         2  ...        7.7         2   \n1       1       0:14         3.4         0  ...       28.2         3   \n2       1       0:00         NaN         3  ...       10.1         2   \n3       2      11:47        10.3         2  ...       17.2         2   \n4       2      10:34        10.9         2  ...        3.7         2   \n\n   SHOT_RESULT   CLOSEST_DEFENDER CLOSEST_DEFENDER_PLAYER_ID  CLOSE_DEF_DIST  \\\n0         made     Anderson, Alan                     101187             1.3   \n1       missed  Bogdanovic, Bojan                     202711             6.1   \n2       missed  Bogdanovic, Bojan                     202711             0.9   \n3       missed      Brown, Markel                     203900             3.4   \n4       missed    Young, Thaddeus                     201152             1.1   \n\n   FGM  PTS    player_name player_id  \n0    1    2  Brian Roberts    203148  \n1    0    0  Brian Roberts    203148  \n2    0    0  Brian Roberts    203148  \n3    0    0  Brian Roberts    203148  \n4    0    0  Brian Roberts    203148  \n\n[5 rows x 21 columns]"
     },
     "execution_count": 3,
     "metadata": {},
     "output_type": "execute_result"
    }
   ],
   "source": [
    "shot_df['player_name'] = shot_df['player_name'].str.title()\r\n",
    "shot_df.head()"
   ]
  },
  {
   "cell_type": "code",
   "execution_count": 4,
   "metadata": {},
   "outputs": [
    {
     "data": {
      "text/html": "<div>\n<style scoped>\n    .dataframe tbody tr th:only-of-type {\n        vertical-align: middle;\n    }\n\n    .dataframe tbody tr th {\n        vertical-align: top;\n    }\n\n    .dataframe thead th {\n        text-align: right;\n    }\n</style>\n<table border=\"1\" class=\"dataframe\">\n  <thead>\n    <tr style=\"text-align: right;\">\n      <th></th>\n      <th>MATCHUP</th>\n      <th>SHOT_NUMBER</th>\n      <th>GAME_CLOCK</th>\n      <th>SHOT_DIST</th>\n      <th>PTS_TYPE</th>\n      <th>SHOT_RESULT</th>\n      <th>FGM</th>\n      <th>PTS</th>\n      <th>player_name</th>\n    </tr>\n  </thead>\n  <tbody>\n    <tr>\n      <th>0</th>\n      <td>MAR 04, 2015 - CHA @ BKN</td>\n      <td>1</td>\n      <td>1:09</td>\n      <td>7.7</td>\n      <td>2</td>\n      <td>made</td>\n      <td>1</td>\n      <td>2</td>\n      <td>Brian Roberts</td>\n    </tr>\n    <tr>\n      <th>1</th>\n      <td>MAR 04, 2015 - CHA @ BKN</td>\n      <td>2</td>\n      <td>0:14</td>\n      <td>28.2</td>\n      <td>3</td>\n      <td>missed</td>\n      <td>0</td>\n      <td>0</td>\n      <td>Brian Roberts</td>\n    </tr>\n    <tr>\n      <th>2</th>\n      <td>MAR 04, 2015 - CHA @ BKN</td>\n      <td>3</td>\n      <td>0:00</td>\n      <td>10.1</td>\n      <td>2</td>\n      <td>missed</td>\n      <td>0</td>\n      <td>0</td>\n      <td>Brian Roberts</td>\n    </tr>\n    <tr>\n      <th>3</th>\n      <td>MAR 04, 2015 - CHA @ BKN</td>\n      <td>4</td>\n      <td>11:47</td>\n      <td>17.2</td>\n      <td>2</td>\n      <td>missed</td>\n      <td>0</td>\n      <td>0</td>\n      <td>Brian Roberts</td>\n    </tr>\n    <tr>\n      <th>4</th>\n      <td>MAR 04, 2015 - CHA @ BKN</td>\n      <td>5</td>\n      <td>10:34</td>\n      <td>3.7</td>\n      <td>2</td>\n      <td>missed</td>\n      <td>0</td>\n      <td>0</td>\n      <td>Brian Roberts</td>\n    </tr>\n  </tbody>\n</table>\n</div>",
      "text/plain": "                    MATCHUP  SHOT_NUMBER GAME_CLOCK  SHOT_DIST  PTS_TYPE  \\\n0  MAR 04, 2015 - CHA @ BKN            1       1:09        7.7         2   \n1  MAR 04, 2015 - CHA @ BKN            2       0:14       28.2         3   \n2  MAR 04, 2015 - CHA @ BKN            3       0:00       10.1         2   \n3  MAR 04, 2015 - CHA @ BKN            4      11:47       17.2         2   \n4  MAR 04, 2015 - CHA @ BKN            5      10:34        3.7         2   \n\n  SHOT_RESULT  FGM  PTS    player_name  \n0        made    1    2  Brian Roberts  \n1      missed    0    0  Brian Roberts  \n2      missed    0    0  Brian Roberts  \n3      missed    0    0  Brian Roberts  \n4      missed    0    0  Brian Roberts  "
     },
     "execution_count": 4,
     "metadata": {},
     "output_type": "execute_result"
    }
   ],
   "source": [
    "shot_df_cols = ['MATCHUP', 'SHOT_NUMBER', 'GAME_CLOCK', 'SHOT_DIST', 'PTS_TYPE','SHOT_RESULT','FGM','PTS', 'player_name']\r\n",
    "shot_df_transformed = shot_df[shot_df_cols].copy()\r\n",
    "shot_df_transformed.head()"
   ]
  },
  {
   "cell_type": "code",
   "execution_count": 5,
   "metadata": {},
   "outputs": [
    {
     "data": {
      "text/html": "<div>\n<style scoped>\n    .dataframe tbody tr th:only-of-type {\n        vertical-align: middle;\n    }\n\n    .dataframe tbody tr th {\n        vertical-align: top;\n    }\n\n    .dataframe thead th {\n        text-align: right;\n    }\n</style>\n<table border=\"1\" class=\"dataframe\">\n  <thead>\n    <tr style=\"text-align: right;\">\n      <th></th>\n      <th>matchup</th>\n      <th>shot_number</th>\n      <th>game_clock</th>\n      <th>shot_dist</th>\n      <th>pts_type</th>\n      <th>shot_result</th>\n      <th>fgm</th>\n      <th>pts</th>\n      <th>player_name</th>\n    </tr>\n  </thead>\n  <tbody>\n    <tr>\n      <th>0</th>\n      <td>MAR 04, 2015 - CHA @ BKN</td>\n      <td>1</td>\n      <td>1:09</td>\n      <td>7.7</td>\n      <td>2</td>\n      <td>made</td>\n      <td>1</td>\n      <td>2</td>\n      <td>Brian Roberts</td>\n    </tr>\n    <tr>\n      <th>1</th>\n      <td>MAR 04, 2015 - CHA @ BKN</td>\n      <td>2</td>\n      <td>0:14</td>\n      <td>28.2</td>\n      <td>3</td>\n      <td>missed</td>\n      <td>0</td>\n      <td>0</td>\n      <td>Brian Roberts</td>\n    </tr>\n    <tr>\n      <th>2</th>\n      <td>MAR 04, 2015 - CHA @ BKN</td>\n      <td>3</td>\n      <td>0:00</td>\n      <td>10.1</td>\n      <td>2</td>\n      <td>missed</td>\n      <td>0</td>\n      <td>0</td>\n      <td>Brian Roberts</td>\n    </tr>\n    <tr>\n      <th>3</th>\n      <td>MAR 04, 2015 - CHA @ BKN</td>\n      <td>4</td>\n      <td>11:47</td>\n      <td>17.2</td>\n      <td>2</td>\n      <td>missed</td>\n      <td>0</td>\n      <td>0</td>\n      <td>Brian Roberts</td>\n    </tr>\n    <tr>\n      <th>4</th>\n      <td>MAR 04, 2015 - CHA @ BKN</td>\n      <td>5</td>\n      <td>10:34</td>\n      <td>3.7</td>\n      <td>2</td>\n      <td>missed</td>\n      <td>0</td>\n      <td>0</td>\n      <td>Brian Roberts</td>\n    </tr>\n  </tbody>\n</table>\n</div>",
      "text/plain": "                    matchup  shot_number game_clock  shot_dist  pts_type  \\\n0  MAR 04, 2015 - CHA @ BKN            1       1:09        7.7         2   \n1  MAR 04, 2015 - CHA @ BKN            2       0:14       28.2         3   \n2  MAR 04, 2015 - CHA @ BKN            3       0:00       10.1         2   \n3  MAR 04, 2015 - CHA @ BKN            4      11:47       17.2         2   \n4  MAR 04, 2015 - CHA @ BKN            5      10:34        3.7         2   \n\n  shot_result  fgm  pts    player_name  \n0        made    1    2  Brian Roberts  \n1      missed    0    0  Brian Roberts  \n2      missed    0    0  Brian Roberts  \n3      missed    0    0  Brian Roberts  \n4      missed    0    0  Brian Roberts  "
     },
     "execution_count": 5,
     "metadata": {},
     "output_type": "execute_result"
    }
   ],
   "source": [
    "colu={}\r\n",
    "for col in shot_df_transformed.columns:\r\n",
    "    colu[col]=col.lower()\r\n",
    "colu\r\n",
    "shot_df_transform = shot_df_transformed.rename(columns=colu)\r\n",
    "shot_df_transform.head()"
   ]
  },
  {
   "cell_type": "code",
   "execution_count": 8,
   "metadata": {},
   "outputs": [],
   "source": [
    "rds_connection_string = \"Team_6:Nourkerry618@etlteam6.crmdinj6n0gp.us-east-2.rds.amazonaws.com:5432/NBA_DB\"\r\n",
    "engine = create_engine(f'postgresql://{rds_connection_string}')"
   ]
  },
  {
   "cell_type": "code",
   "execution_count": 9,
   "metadata": {},
   "outputs": [],
   "source": [
    "shot_df_transform.to_sql(name='shot_logs', con=engine, if_exists='append', index=False)"
   ]
  },
  {
   "cell_type": "code",
   "execution_count": null,
   "metadata": {},
   "outputs": [
    {
     "data": {
      "text/html": "<div>\n<style scoped>\n    .dataframe tbody tr th:only-of-type {\n        vertical-align: middle;\n    }\n\n    .dataframe tbody tr th {\n        vertical-align: top;\n    }\n\n    .dataframe thead th {\n        text-align: right;\n    }\n</style>\n<table border=\"1\" class=\"dataframe\">\n  <thead>\n    <tr style=\"text-align: right;\">\n      <th></th>\n      <th>matchup</th>\n      <th>shot_number</th>\n      <th>game_clock</th>\n      <th>shot_dist</th>\n      <th>pts_type</th>\n      <th>shot_result</th>\n      <th>fgm</th>\n      <th>pts</th>\n      <th>player_name</th>\n    </tr>\n  </thead>\n  <tbody>\n    <tr>\n      <th>0</th>\n      <td>MAR 04, 2015 - CHA @ BKN</td>\n      <td>1</td>\n      <td>1:09</td>\n      <td>7.7</td>\n      <td>2</td>\n      <td>made</td>\n      <td>1</td>\n      <td>2</td>\n      <td>Brian Roberts</td>\n    </tr>\n    <tr>\n      <th>1</th>\n      <td>MAR 04, 2015 - CHA @ BKN</td>\n      <td>2</td>\n      <td>0:14</td>\n      <td>28.2</td>\n      <td>3</td>\n      <td>missed</td>\n      <td>0</td>\n      <td>0</td>\n      <td>Brian Roberts</td>\n    </tr>\n    <tr>\n      <th>2</th>\n      <td>MAR 04, 2015 - CHA @ BKN</td>\n      <td>3</td>\n      <td>0:00</td>\n      <td>10.1</td>\n      <td>2</td>\n      <td>missed</td>\n      <td>0</td>\n      <td>0</td>\n      <td>Brian Roberts</td>\n    </tr>\n    <tr>\n      <th>3</th>\n      <td>MAR 04, 2015 - CHA @ BKN</td>\n      <td>4</td>\n      <td>11:47</td>\n      <td>17.2</td>\n      <td>2</td>\n      <td>missed</td>\n      <td>0</td>\n      <td>0</td>\n      <td>Brian Roberts</td>\n    </tr>\n    <tr>\n      <th>4</th>\n      <td>MAR 04, 2015 - CHA @ BKN</td>\n      <td>5</td>\n      <td>10:34</td>\n      <td>3.7</td>\n      <td>2</td>\n      <td>missed</td>\n      <td>0</td>\n      <td>0</td>\n      <td>Brian Roberts</td>\n    </tr>\n  </tbody>\n</table>\n</div>",
      "text/plain": "                    matchup  shot_number game_clock  shot_dist  pts_type  \\\n0  MAR 04, 2015 - CHA @ BKN            1       1:09        7.7         2   \n1  MAR 04, 2015 - CHA @ BKN            2       0:14       28.2         3   \n2  MAR 04, 2015 - CHA @ BKN            3       0:00       10.1         2   \n3  MAR 04, 2015 - CHA @ BKN            4      11:47       17.2         2   \n4  MAR 04, 2015 - CHA @ BKN            5      10:34        3.7         2   \n\n  shot_result  fgm  pts    player_name  \n0        made    1    2  Brian Roberts  \n1      missed    0    0  Brian Roberts  \n2      missed    0    0  Brian Roberts  \n3      missed    0    0  Brian Roberts  \n4      missed    0    0  Brian Roberts  "
     },
     "execution_count": 8,
     "metadata": {},
     "output_type": "execute_result"
    }
   ],
   "source": [
    "pd.read_sql_query('select * from shot_logs', con=engine).head()"
   ]
  },
  {
   "cell_type": "code",
   "execution_count": null,
   "metadata": {},
   "outputs": [],
   "source": []
  }
 ],
 "metadata": {
  "kernelspec": {
   "display_name": "Python 3.8.5 64-bit ('base': conda)",
   "name": "python385jvsc74a57bd0bfc9cf530601329b457e51059443edadfb9bb1ebead09777b097007534cdaa11"
  },
  "language_info": {
   "codemirror_mode": {
    "name": "ipython",
    "version": 3
   },
   "file_extension": ".py",
   "mimetype": "text/x-python",
   "name": "python",
   "nbconvert_exporter": "python",
   "pygments_lexer": "ipython3",
   "version": "3.8.5"
  }
 },
 "nbformat": 4,
 "nbformat_minor": 2
}