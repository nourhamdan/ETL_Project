{
 "cells": [
  {
   "cell_type": "code",
   "execution_count": 4,
   "metadata": {},
   "outputs": [],
   "source": [
    "import pandas as pd\n",
    "from sqlalchemy import create_engine"
   ]
  },
  {
   "cell_type": "code",
   "execution_count": 7,
   "metadata": {},
   "outputs": [
    {
     "data": {
      "text/html": "<div>\n<style scoped>\n    .dataframe tbody tr th:only-of-type {\n        vertical-align: middle;\n    }\n\n    .dataframe tbody tr th {\n        vertical-align: top;\n    }\n\n    .dataframe thead th {\n        text-align: right;\n    }\n</style>\n<table border=\"1\" class=\"dataframe\">\n  <thead>\n    <tr style=\"text-align: right;\">\n      <th></th>\n      <th>Unnamed: 0</th>\n      <th>player_name</th>\n      <th>team_abbreviation</th>\n      <th>age</th>\n      <th>player_height</th>\n      <th>player_weight</th>\n      <th>college</th>\n      <th>country</th>\n      <th>draft_year</th>\n      <th>draft_round</th>\n      <th>...</th>\n      <th>pts</th>\n      <th>reb</th>\n      <th>ast</th>\n      <th>net_rating</th>\n      <th>oreb_pct</th>\n      <th>dreb_pct</th>\n      <th>usg_pct</th>\n      <th>ts_pct</th>\n      <th>ast_pct</th>\n      <th>season</th>\n    </tr>\n  </thead>\n  <tbody>\n    <tr>\n      <th>0</th>\n      <td>0</td>\n      <td>Dennis Rodman</td>\n      <td>CHI</td>\n      <td>36.0</td>\n      <td>198.12</td>\n      <td>99.790240</td>\n      <td>Southeastern Oklahoma State</td>\n      <td>USA</td>\n      <td>1986</td>\n      <td>2</td>\n      <td>...</td>\n      <td>5.7</td>\n      <td>16.1</td>\n      <td>3.1</td>\n      <td>16.1</td>\n      <td>0.186</td>\n      <td>0.323</td>\n      <td>0.100</td>\n      <td>0.479</td>\n      <td>0.113</td>\n      <td>1996-97</td>\n    </tr>\n    <tr>\n      <th>1</th>\n      <td>1</td>\n      <td>Dwayne Schintzius</td>\n      <td>LAC</td>\n      <td>28.0</td>\n      <td>215.90</td>\n      <td>117.933920</td>\n      <td>Florida</td>\n      <td>USA</td>\n      <td>1990</td>\n      <td>1</td>\n      <td>...</td>\n      <td>2.3</td>\n      <td>1.5</td>\n      <td>0.3</td>\n      <td>12.3</td>\n      <td>0.078</td>\n      <td>0.151</td>\n      <td>0.175</td>\n      <td>0.430</td>\n      <td>0.048</td>\n      <td>1996-97</td>\n    </tr>\n    <tr>\n      <th>2</th>\n      <td>2</td>\n      <td>Earl Cureton</td>\n      <td>TOR</td>\n      <td>39.0</td>\n      <td>205.74</td>\n      <td>95.254320</td>\n      <td>Detroit Mercy</td>\n      <td>USA</td>\n      <td>1979</td>\n      <td>3</td>\n      <td>...</td>\n      <td>0.8</td>\n      <td>1.0</td>\n      <td>0.4</td>\n      <td>-2.1</td>\n      <td>0.105</td>\n      <td>0.102</td>\n      <td>0.103</td>\n      <td>0.376</td>\n      <td>0.148</td>\n      <td>1996-97</td>\n    </tr>\n    <tr>\n      <th>3</th>\n      <td>3</td>\n      <td>Ed O'Bannon</td>\n      <td>DAL</td>\n      <td>24.0</td>\n      <td>203.20</td>\n      <td>100.697424</td>\n      <td>UCLA</td>\n      <td>USA</td>\n      <td>1995</td>\n      <td>1</td>\n      <td>...</td>\n      <td>3.7</td>\n      <td>2.3</td>\n      <td>0.6</td>\n      <td>-8.7</td>\n      <td>0.060</td>\n      <td>0.149</td>\n      <td>0.167</td>\n      <td>0.399</td>\n      <td>0.077</td>\n      <td>1996-97</td>\n    </tr>\n    <tr>\n      <th>4</th>\n      <td>4</td>\n      <td>Ed Pinckney</td>\n      <td>MIA</td>\n      <td>34.0</td>\n      <td>205.74</td>\n      <td>108.862080</td>\n      <td>Villanova</td>\n      <td>USA</td>\n      <td>1985</td>\n      <td>1</td>\n      <td>...</td>\n      <td>2.4</td>\n      <td>2.4</td>\n      <td>0.2</td>\n      <td>-11.2</td>\n      <td>0.109</td>\n      <td>0.179</td>\n      <td>0.127</td>\n      <td>0.611</td>\n      <td>0.040</td>\n      <td>1996-97</td>\n    </tr>\n  </tbody>\n</table>\n<p>5 rows × 22 columns</p>\n</div>",
      "text/plain": "   Unnamed: 0        player_name team_abbreviation   age  player_height  \\\n0           0      Dennis Rodman               CHI  36.0         198.12   \n1           1  Dwayne Schintzius               LAC  28.0         215.90   \n2           2       Earl Cureton               TOR  39.0         205.74   \n3           3        Ed O'Bannon               DAL  24.0         203.20   \n4           4        Ed Pinckney               MIA  34.0         205.74   \n\n   player_weight                      college country draft_year draft_round  \\\n0      99.790240  Southeastern Oklahoma State     USA       1986           2   \n1     117.933920                      Florida     USA       1990           1   \n2      95.254320                Detroit Mercy     USA       1979           3   \n3     100.697424                         UCLA     USA       1995           1   \n4     108.862080                    Villanova     USA       1985           1   \n\n   ...  pts   reb  ast  net_rating  oreb_pct  dreb_pct  usg_pct  ts_pct  \\\n0  ...  5.7  16.1  3.1        16.1     0.186     0.323    0.100   0.479   \n1  ...  2.3   1.5  0.3        12.3     0.078     0.151    0.175   0.430   \n2  ...  0.8   1.0  0.4        -2.1     0.105     0.102    0.103   0.376   \n3  ...  3.7   2.3  0.6        -8.7     0.060     0.149    0.167   0.399   \n4  ...  2.4   2.4  0.2       -11.2     0.109     0.179    0.127   0.611   \n\n   ast_pct   season  \n0    0.113  1996-97  \n1    0.048  1996-97  \n2    0.148  1996-97  \n3    0.077  1996-97  \n4    0.040  1996-97  \n\n[5 rows x 22 columns]"
     },
     "execution_count": 7,
     "metadata": {},
     "output_type": "execute_result"
    }
   ],
   "source": [
    "all_season_file = \"Resources/all_seasons.csv\"\r\n",
    "all_seasons_df = pd.read_csv(all_season_file)\r\n",
    "all_seasons_df.head()"
   ]
  },
  {
   "cell_type": "code",
   "execution_count": null,
   "metadata": {},
   "outputs": [],
   "source": []
  },
  {
   "cell_type": "code",
   "execution_count": 11,
   "metadata": {},
   "outputs": [
    {
     "ename": "KeyError",
     "evalue": "\"None of [Index(['Player', 'Age', 'Team', 'Height', 'Weight', 'Points', 'Rebounds',\\n       'Assists', 'Season'],\\n      dtype='object')] are in the [columns]\"",
     "output_type": "error",
     "traceback": [
      "\u001b[1;31m---------------------------------------------------------------------------\u001b[0m",
      "\u001b[1;31mKeyError\u001b[0m                                  Traceback (most recent call last)",
      "\u001b[1;32m<ipython-input-11-df2b7588fde6>\u001b[0m in \u001b[0;36m<module>\u001b[1;34m\u001b[0m\n\u001b[0;32m      1\u001b[0m \u001b[0mall_season_cols\u001b[0m \u001b[1;33m=\u001b[0m \u001b[1;33m[\u001b[0m\u001b[1;34m'Player'\u001b[0m\u001b[1;33m,\u001b[0m \u001b[1;34m'Age'\u001b[0m\u001b[1;33m,\u001b[0m \u001b[1;34m'Team'\u001b[0m\u001b[1;33m,\u001b[0m \u001b[1;34m'Height'\u001b[0m\u001b[1;33m,\u001b[0m \u001b[1;34m'Weight'\u001b[0m\u001b[1;33m,\u001b[0m \u001b[1;34m'Points'\u001b[0m\u001b[1;33m,\u001b[0m \u001b[1;34m'Rebounds'\u001b[0m\u001b[1;33m,\u001b[0m\u001b[1;34m'Assists'\u001b[0m\u001b[1;33m,\u001b[0m\u001b[1;34m'Season'\u001b[0m\u001b[1;33m]\u001b[0m\u001b[1;33m\u001b[0m\u001b[1;33m\u001b[0m\u001b[0m\n\u001b[1;32m----> 2\u001b[1;33m \u001b[0mall_season_transformed\u001b[0m \u001b[1;33m=\u001b[0m \u001b[0mall_seasons_df\u001b[0m\u001b[1;33m[\u001b[0m\u001b[0mall_season_cols\u001b[0m\u001b[1;33m]\u001b[0m\u001b[1;33m.\u001b[0m\u001b[0mcopy\u001b[0m\u001b[1;33m(\u001b[0m\u001b[1;33m)\u001b[0m\u001b[1;33m\u001b[0m\u001b[1;33m\u001b[0m\u001b[0m\n\u001b[0m\u001b[0;32m      3\u001b[0m \u001b[1;33m\u001b[0m\u001b[0m\n\u001b[0;32m      4\u001b[0m season_renamed = all_season_transformed.rename(columns ={\n\u001b[0;32m      5\u001b[0m     \u001b[1;34m'Player : player_name'\u001b[0m\u001b[1;33m,\u001b[0m\u001b[1;33m\u001b[0m\u001b[1;33m\u001b[0m\u001b[0m\n",
      "\u001b[1;32m~\\anaconda3\\lib\\site-packages\\pandas\\core\\frame.py\u001b[0m in \u001b[0;36m__getitem__\u001b[1;34m(self, key)\u001b[0m\n\u001b[0;32m   2906\u001b[0m             \u001b[1;32mif\u001b[0m \u001b[0mis_iterator\u001b[0m\u001b[1;33m(\u001b[0m\u001b[0mkey\u001b[0m\u001b[1;33m)\u001b[0m\u001b[1;33m:\u001b[0m\u001b[1;33m\u001b[0m\u001b[1;33m\u001b[0m\u001b[0m\n\u001b[0;32m   2907\u001b[0m                 \u001b[0mkey\u001b[0m \u001b[1;33m=\u001b[0m \u001b[0mlist\u001b[0m\u001b[1;33m(\u001b[0m\u001b[0mkey\u001b[0m\u001b[1;33m)\u001b[0m\u001b[1;33m\u001b[0m\u001b[1;33m\u001b[0m\u001b[0m\n\u001b[1;32m-> 2908\u001b[1;33m             \u001b[0mindexer\u001b[0m \u001b[1;33m=\u001b[0m \u001b[0mself\u001b[0m\u001b[1;33m.\u001b[0m\u001b[0mloc\u001b[0m\u001b[1;33m.\u001b[0m\u001b[0m_get_listlike_indexer\u001b[0m\u001b[1;33m(\u001b[0m\u001b[0mkey\u001b[0m\u001b[1;33m,\u001b[0m \u001b[0maxis\u001b[0m\u001b[1;33m=\u001b[0m\u001b[1;36m1\u001b[0m\u001b[1;33m,\u001b[0m \u001b[0mraise_missing\u001b[0m\u001b[1;33m=\u001b[0m\u001b[1;32mTrue\u001b[0m\u001b[1;33m)\u001b[0m\u001b[1;33m[\u001b[0m\u001b[1;36m1\u001b[0m\u001b[1;33m]\u001b[0m\u001b[1;33m\u001b[0m\u001b[1;33m\u001b[0m\u001b[0m\n\u001b[0m\u001b[0;32m   2909\u001b[0m \u001b[1;33m\u001b[0m\u001b[0m\n\u001b[0;32m   2910\u001b[0m         \u001b[1;31m# take() does not accept boolean indexers\u001b[0m\u001b[1;33m\u001b[0m\u001b[1;33m\u001b[0m\u001b[1;33m\u001b[0m\u001b[0m\n",
      "\u001b[1;32m~\\anaconda3\\lib\\site-packages\\pandas\\core\\indexing.py\u001b[0m in \u001b[0;36m_get_listlike_indexer\u001b[1;34m(self, key, axis, raise_missing)\u001b[0m\n\u001b[0;32m   1252\u001b[0m             \u001b[0mkeyarr\u001b[0m\u001b[1;33m,\u001b[0m \u001b[0mindexer\u001b[0m\u001b[1;33m,\u001b[0m \u001b[0mnew_indexer\u001b[0m \u001b[1;33m=\u001b[0m \u001b[0max\u001b[0m\u001b[1;33m.\u001b[0m\u001b[0m_reindex_non_unique\u001b[0m\u001b[1;33m(\u001b[0m\u001b[0mkeyarr\u001b[0m\u001b[1;33m)\u001b[0m\u001b[1;33m\u001b[0m\u001b[1;33m\u001b[0m\u001b[0m\n\u001b[0;32m   1253\u001b[0m \u001b[1;33m\u001b[0m\u001b[0m\n\u001b[1;32m-> 1254\u001b[1;33m         \u001b[0mself\u001b[0m\u001b[1;33m.\u001b[0m\u001b[0m_validate_read_indexer\u001b[0m\u001b[1;33m(\u001b[0m\u001b[0mkeyarr\u001b[0m\u001b[1;33m,\u001b[0m \u001b[0mindexer\u001b[0m\u001b[1;33m,\u001b[0m \u001b[0maxis\u001b[0m\u001b[1;33m,\u001b[0m \u001b[0mraise_missing\u001b[0m\u001b[1;33m=\u001b[0m\u001b[0mraise_missing\u001b[0m\u001b[1;33m)\u001b[0m\u001b[1;33m\u001b[0m\u001b[1;33m\u001b[0m\u001b[0m\n\u001b[0m\u001b[0;32m   1255\u001b[0m         \u001b[1;32mreturn\u001b[0m \u001b[0mkeyarr\u001b[0m\u001b[1;33m,\u001b[0m \u001b[0mindexer\u001b[0m\u001b[1;33m\u001b[0m\u001b[1;33m\u001b[0m\u001b[0m\n\u001b[0;32m   1256\u001b[0m \u001b[1;33m\u001b[0m\u001b[0m\n",
      "\u001b[1;32m~\\anaconda3\\lib\\site-packages\\pandas\\core\\indexing.py\u001b[0m in \u001b[0;36m_validate_read_indexer\u001b[1;34m(self, key, indexer, axis, raise_missing)\u001b[0m\n\u001b[0;32m   1296\u001b[0m             \u001b[1;32mif\u001b[0m \u001b[0mmissing\u001b[0m \u001b[1;33m==\u001b[0m \u001b[0mlen\u001b[0m\u001b[1;33m(\u001b[0m\u001b[0mindexer\u001b[0m\u001b[1;33m)\u001b[0m\u001b[1;33m:\u001b[0m\u001b[1;33m\u001b[0m\u001b[1;33m\u001b[0m\u001b[0m\n\u001b[0;32m   1297\u001b[0m                 \u001b[0maxis_name\u001b[0m \u001b[1;33m=\u001b[0m \u001b[0mself\u001b[0m\u001b[1;33m.\u001b[0m\u001b[0mobj\u001b[0m\u001b[1;33m.\u001b[0m\u001b[0m_get_axis_name\u001b[0m\u001b[1;33m(\u001b[0m\u001b[0maxis\u001b[0m\u001b[1;33m)\u001b[0m\u001b[1;33m\u001b[0m\u001b[1;33m\u001b[0m\u001b[0m\n\u001b[1;32m-> 1298\u001b[1;33m                 \u001b[1;32mraise\u001b[0m \u001b[0mKeyError\u001b[0m\u001b[1;33m(\u001b[0m\u001b[1;34mf\"None of [{key}] are in the [{axis_name}]\"\u001b[0m\u001b[1;33m)\u001b[0m\u001b[1;33m\u001b[0m\u001b[1;33m\u001b[0m\u001b[0m\n\u001b[0m\u001b[0;32m   1299\u001b[0m \u001b[1;33m\u001b[0m\u001b[0m\n\u001b[0;32m   1300\u001b[0m             \u001b[1;31m# We (temporarily) allow for some missing keys with .loc, except in\u001b[0m\u001b[1;33m\u001b[0m\u001b[1;33m\u001b[0m\u001b[1;33m\u001b[0m\u001b[0m\n",
      "\u001b[1;31mKeyError\u001b[0m: \"None of [Index(['Player', 'Age', 'Team', 'Height', 'Weight', 'Points', 'Rebounds',\\n       'Assists', 'Season'],\\n      dtype='object')] are in the [columns]\""
     ]
    }
   ],
   "source": [
    "all_season_cols = ['Player', 'Age', 'Team', 'Height', 'Weight', 'Points', 'Rebounds','Assists','Season']\r\n",
    "all_season_transformed = all_seasons_df[all_season_cols].copy()\r\n",
    "\r\n",
    "season_renamed = all_season_transformed.rename(columns ={\r\n",
    "    'Player : player_name',\r\n",
    "    'Age : age',\r\n",
    "    'Team : team_abbreviation',\r\n",
    "    'Height : player_height',\r\n",
    "    'Weight : player_weight',\r\n",
    "    'Points : pts',\r\n",
    "    'Rebounds : reb',\r\n",
    "    'Assits : ast',\r\n",
    "    'Season : season',})\r\n",
    "\r\n"
   ]
  },
  {
   "cell_type": "code",
   "execution_count": null,
   "metadata": {},
   "outputs": [],
   "source": []
  },
  {
   "cell_type": "code",
   "execution_count": null,
   "metadata": {},
   "outputs": [],
   "source": []
  }
 ],
 "metadata": {
  "kernelspec": {
   "display_name": "Python 3",
   "language": "python",
   "name": "python3"
  },
  "language_info": {
   "codemirror_mode": {
    "name": "ipython",
    "version": 3
   },
   "file_extension": ".py",
   "mimetype": "text/x-python",
   "name": "python",
   "nbconvert_exporter": "python",
   "pygments_lexer": "ipython3",
   "version": "3.8.5"
  }
 },
 "nbformat": 4,
 "nbformat_minor": 2
}