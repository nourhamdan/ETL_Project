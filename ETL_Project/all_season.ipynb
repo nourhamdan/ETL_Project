{
 "cells": [
  {
   "cell_type": "code",
   "execution_count": 1,
   "metadata": {},
   "outputs": [],
   "source": [
    "import pandas as pd\n",
    "from sqlalchemy import create_engine"
   ]
  },
  {
   "cell_type": "code",
   "execution_count": 2,
   "metadata": {},
   "outputs": [
    {
     "data": {
      "text/html": "<div>\n<style scoped>\n    .dataframe tbody tr th:only-of-type {\n        vertical-align: middle;\n    }\n\n    .dataframe tbody tr th {\n        vertical-align: top;\n    }\n\n    .dataframe thead th {\n        text-align: right;\n    }\n</style>\n<table border=\"1\" class=\"dataframe\">\n  <thead>\n    <tr style=\"text-align: right;\">\n      <th></th>\n      <th>Unnamed: 0</th>\n      <th>player_name</th>\n      <th>team_abbreviation</th>\n      <th>age</th>\n      <th>player_height</th>\n      <th>player_weight</th>\n      <th>college</th>\n      <th>country</th>\n      <th>draft_year</th>\n      <th>draft_round</th>\n      <th>...</th>\n      <th>pts</th>\n      <th>reb</th>\n      <th>ast</th>\n      <th>net_rating</th>\n      <th>oreb_pct</th>\n      <th>dreb_pct</th>\n      <th>usg_pct</th>\n      <th>ts_pct</th>\n      <th>ast_pct</th>\n      <th>season</th>\n    </tr>\n  </thead>\n  <tbody>\n    <tr>\n      <th>0</th>\n      <td>0</td>\n      <td>Dennis Rodman</td>\n      <td>CHI</td>\n      <td>36.0</td>\n      <td>198.12</td>\n      <td>99.790240</td>\n      <td>Southeastern Oklahoma State</td>\n      <td>USA</td>\n      <td>1986</td>\n      <td>2</td>\n      <td>...</td>\n      <td>5.7</td>\n      <td>16.1</td>\n      <td>3.1</td>\n      <td>16.1</td>\n      <td>0.186</td>\n      <td>0.323</td>\n      <td>0.100</td>\n      <td>0.479</td>\n      <td>0.113</td>\n      <td>1996-97</td>\n    </tr>\n    <tr>\n      <th>1</th>\n      <td>1</td>\n      <td>Dwayne Schintzius</td>\n      <td>LAC</td>\n      <td>28.0</td>\n      <td>215.90</td>\n      <td>117.933920</td>\n      <td>Florida</td>\n      <td>USA</td>\n      <td>1990</td>\n      <td>1</td>\n      <td>...</td>\n      <td>2.3</td>\n      <td>1.5</td>\n      <td>0.3</td>\n      <td>12.3</td>\n      <td>0.078</td>\n      <td>0.151</td>\n      <td>0.175</td>\n      <td>0.430</td>\n      <td>0.048</td>\n      <td>1996-97</td>\n    </tr>\n    <tr>\n      <th>2</th>\n      <td>2</td>\n      <td>Earl Cureton</td>\n      <td>TOR</td>\n      <td>39.0</td>\n      <td>205.74</td>\n      <td>95.254320</td>\n      <td>Detroit Mercy</td>\n      <td>USA</td>\n      <td>1979</td>\n      <td>3</td>\n      <td>...</td>\n      <td>0.8</td>\n      <td>1.0</td>\n      <td>0.4</td>\n      <td>-2.1</td>\n      <td>0.105</td>\n      <td>0.102</td>\n      <td>0.103</td>\n      <td>0.376</td>\n      <td>0.148</td>\n      <td>1996-97</td>\n    </tr>\n    <tr>\n      <th>3</th>\n      <td>3</td>\n      <td>Ed O'Bannon</td>\n      <td>DAL</td>\n      <td>24.0</td>\n      <td>203.20</td>\n      <td>100.697424</td>\n      <td>UCLA</td>\n      <td>USA</td>\n      <td>1995</td>\n      <td>1</td>\n      <td>...</td>\n      <td>3.7</td>\n      <td>2.3</td>\n      <td>0.6</td>\n      <td>-8.7</td>\n      <td>0.060</td>\n      <td>0.149</td>\n      <td>0.167</td>\n      <td>0.399</td>\n      <td>0.077</td>\n      <td>1996-97</td>\n    </tr>\n    <tr>\n      <th>4</th>\n      <td>4</td>\n      <td>Ed Pinckney</td>\n      <td>MIA</td>\n      <td>34.0</td>\n      <td>205.74</td>\n      <td>108.862080</td>\n      <td>Villanova</td>\n      <td>USA</td>\n      <td>1985</td>\n      <td>1</td>\n      <td>...</td>\n      <td>2.4</td>\n      <td>2.4</td>\n      <td>0.2</td>\n      <td>-11.2</td>\n      <td>0.109</td>\n      <td>0.179</td>\n      <td>0.127</td>\n      <td>0.611</td>\n      <td>0.040</td>\n      <td>1996-97</td>\n    </tr>\n  </tbody>\n</table>\n<p>5 rows × 22 columns</p>\n</div>",
      "text/plain": "   Unnamed: 0        player_name team_abbreviation   age  player_height  \\\n0           0      Dennis Rodman               CHI  36.0         198.12   \n1           1  Dwayne Schintzius               LAC  28.0         215.90   \n2           2       Earl Cureton               TOR  39.0         205.74   \n3           3        Ed O'Bannon               DAL  24.0         203.20   \n4           4        Ed Pinckney               MIA  34.0         205.74   \n\n   player_weight                      college country draft_year draft_round  \\\n0      99.790240  Southeastern Oklahoma State     USA       1986           2   \n1     117.933920                      Florida     USA       1990           1   \n2      95.254320                Detroit Mercy     USA       1979           3   \n3     100.697424                         UCLA     USA       1995           1   \n4     108.862080                    Villanova     USA       1985           1   \n\n   ...  pts   reb  ast  net_rating  oreb_pct  dreb_pct  usg_pct  ts_pct  \\\n0  ...  5.7  16.1  3.1        16.1     0.186     0.323    0.100   0.479   \n1  ...  2.3   1.5  0.3        12.3     0.078     0.151    0.175   0.430   \n2  ...  0.8   1.0  0.4        -2.1     0.105     0.102    0.103   0.376   \n3  ...  3.7   2.3  0.6        -8.7     0.060     0.149    0.167   0.399   \n4  ...  2.4   2.4  0.2       -11.2     0.109     0.179    0.127   0.611   \n\n   ast_pct   season  \n0    0.113  1996-97  \n1    0.048  1996-97  \n2    0.148  1996-97  \n3    0.077  1996-97  \n4    0.040  1996-97  \n\n[5 rows x 22 columns]"
     },
     "execution_count": 2,
     "metadata": {},
     "output_type": "execute_result"
    }
   ],
   "source": [
    "all_season_file = \"Resources/all_seasons.csv\"\n",
    "all_seasons_df = pd.read_csv(all_season_file)\n",
    "all_seasons_df.head()"
   ]
  },
  {
   "cell_type": "code",
   "execution_count": 3,
   "metadata": {},
   "outputs": [
    {
     "data": {
      "text/html": "<div>\n<style scoped>\n    .dataframe tbody tr th:only-of-type {\n        vertical-align: middle;\n    }\n\n    .dataframe tbody tr th {\n        vertical-align: top;\n    }\n\n    .dataframe thead th {\n        text-align: right;\n    }\n</style>\n<table border=\"1\" class=\"dataframe\">\n  <thead>\n    <tr style=\"text-align: right;\">\n      <th></th>\n      <th>player_name</th>\n      <th>age</th>\n      <th>team_abbreviation</th>\n      <th>player_height</th>\n      <th>player_weight</th>\n      <th>pts</th>\n      <th>reb</th>\n      <th>ast</th>\n      <th>season</th>\n    </tr>\n  </thead>\n  <tbody>\n    <tr>\n      <th>0</th>\n      <td>Dennis Rodman</td>\n      <td>36.0</td>\n      <td>CHI</td>\n      <td>198.12</td>\n      <td>99.790240</td>\n      <td>5.7</td>\n      <td>16.1</td>\n      <td>3.1</td>\n      <td>1996-97</td>\n    </tr>\n    <tr>\n      <th>1</th>\n      <td>Dwayne Schintzius</td>\n      <td>28.0</td>\n      <td>LAC</td>\n      <td>215.90</td>\n      <td>117.933920</td>\n      <td>2.3</td>\n      <td>1.5</td>\n      <td>0.3</td>\n      <td>1996-97</td>\n    </tr>\n    <tr>\n      <th>2</th>\n      <td>Earl Cureton</td>\n      <td>39.0</td>\n      <td>TOR</td>\n      <td>205.74</td>\n      <td>95.254320</td>\n      <td>0.8</td>\n      <td>1.0</td>\n      <td>0.4</td>\n      <td>1996-97</td>\n    </tr>\n    <tr>\n      <th>3</th>\n      <td>Ed O'Bannon</td>\n      <td>24.0</td>\n      <td>DAL</td>\n      <td>203.20</td>\n      <td>100.697424</td>\n      <td>3.7</td>\n      <td>2.3</td>\n      <td>0.6</td>\n      <td>1996-97</td>\n    </tr>\n    <tr>\n      <th>4</th>\n      <td>Ed Pinckney</td>\n      <td>34.0</td>\n      <td>MIA</td>\n      <td>205.74</td>\n      <td>108.862080</td>\n      <td>2.4</td>\n      <td>2.4</td>\n      <td>0.2</td>\n      <td>1996-97</td>\n    </tr>\n  </tbody>\n</table>\n</div>",
      "text/plain": "         player_name   age team_abbreviation  player_height  player_weight  \\\n0      Dennis Rodman  36.0               CHI         198.12      99.790240   \n1  Dwayne Schintzius  28.0               LAC         215.90     117.933920   \n2       Earl Cureton  39.0               TOR         205.74      95.254320   \n3        Ed O'Bannon  24.0               DAL         203.20     100.697424   \n4        Ed Pinckney  34.0               MIA         205.74     108.862080   \n\n   pts   reb  ast   season  \n0  5.7  16.1  3.1  1996-97  \n1  2.3   1.5  0.3  1996-97  \n2  0.8   1.0  0.4  1996-97  \n3  3.7   2.3  0.6  1996-97  \n4  2.4   2.4  0.2  1996-97  "
     },
     "execution_count": 3,
     "metadata": {},
     "output_type": "execute_result"
    }
   ],
   "source": [
    "all_season_cols = ['player_name', 'age', 'team_abbreviation', 'player_height', 'player_weight', 'pts', 'reb','ast','season']\n",
    "all_season_transformed = all_seasons_df[all_season_cols].copy()\n",
    "\n",
    "all_season_transformed.head()"
   ]
  },
  {
   "cell_type": "code",
   "execution_count": 4,
   "metadata": {},
   "outputs": [
    {
     "data": {
      "text/html": "<div>\n<style scoped>\n    .dataframe tbody tr th:only-of-type {\n        vertical-align: middle;\n    }\n\n    .dataframe tbody tr th {\n        vertical-align: top;\n    }\n\n    .dataframe thead th {\n        text-align: right;\n    }\n</style>\n<table border=\"1\" class=\"dataframe\">\n  <thead>\n    <tr style=\"text-align: right;\">\n      <th></th>\n      <th>Player</th>\n      <th>Age</th>\n      <th>Team</th>\n      <th>Height</th>\n      <th>Weight</th>\n      <th>points</th>\n      <th>Rebounds</th>\n      <th>Assist</th>\n      <th>Season</th>\n    </tr>\n  </thead>\n  <tbody>\n    <tr>\n      <th>0</th>\n      <td>Dennis Rodman</td>\n      <td>36.0</td>\n      <td>CHI</td>\n      <td>198.12</td>\n      <td>99.790240</td>\n      <td>5.7</td>\n      <td>16.1</td>\n      <td>3.1</td>\n      <td>1996-97</td>\n    </tr>\n    <tr>\n      <th>1</th>\n      <td>Dwayne Schintzius</td>\n      <td>28.0</td>\n      <td>LAC</td>\n      <td>215.90</td>\n      <td>117.933920</td>\n      <td>2.3</td>\n      <td>1.5</td>\n      <td>0.3</td>\n      <td>1996-97</td>\n    </tr>\n    <tr>\n      <th>2</th>\n      <td>Earl Cureton</td>\n      <td>39.0</td>\n      <td>TOR</td>\n      <td>205.74</td>\n      <td>95.254320</td>\n      <td>0.8</td>\n      <td>1.0</td>\n      <td>0.4</td>\n      <td>1996-97</td>\n    </tr>\n    <tr>\n      <th>3</th>\n      <td>Ed O'Bannon</td>\n      <td>24.0</td>\n      <td>DAL</td>\n      <td>203.20</td>\n      <td>100.697424</td>\n      <td>3.7</td>\n      <td>2.3</td>\n      <td>0.6</td>\n      <td>1996-97</td>\n    </tr>\n    <tr>\n      <th>4</th>\n      <td>Ed Pinckney</td>\n      <td>34.0</td>\n      <td>MIA</td>\n      <td>205.74</td>\n      <td>108.862080</td>\n      <td>2.4</td>\n      <td>2.4</td>\n      <td>0.2</td>\n      <td>1996-97</td>\n    </tr>\n  </tbody>\n</table>\n</div>",
      "text/plain": "              Player   Age Team  Height      Weight  points  Rebounds  Assist  \\\n0      Dennis Rodman  36.0  CHI  198.12   99.790240     5.7      16.1     3.1   \n1  Dwayne Schintzius  28.0  LAC  215.90  117.933920     2.3       1.5     0.3   \n2       Earl Cureton  39.0  TOR  205.74   95.254320     0.8       1.0     0.4   \n3        Ed O'Bannon  24.0  DAL  203.20  100.697424     3.7       2.3     0.6   \n4        Ed Pinckney  34.0  MIA  205.74  108.862080     2.4       2.4     0.2   \n\n    Season  \n0  1996-97  \n1  1996-97  \n2  1996-97  \n3  1996-97  \n4  1996-97  "
     },
     "execution_count": 4,
     "metadata": {},
     "output_type": "execute_result"
    }
   ],
   "source": [
    "all_season_cols = ['player_name', 'age', 'team_abbreviation', 'player_height', 'player_weight', 'pts', 'reb','ast','season']\r\n",
    "all_season_transformed = all_seasons_df[all_season_cols].copy()\r\n",
    "season_renamed = all_season_transformed.rename(columns={\r\n",
    "    'player_name' : 'Player',\r\n",
    "    'age' : 'Age',\r\n",
    "    'team_abbreviation' : 'Team',\r\n",
    "    'player_height': 'Height',\r\n",
    "    'player_weight' :'Weight',\r\n",
    "    'pts' : 'points',\r\n",
    "    'reb': 'Rebounds',\r\n",
    "    'ast' : 'Assist',\r\n",
    "    'season' : 'Season'})\r\n",
    "\r\n",
    "season_renamed.head()"
   ]
  },
  {
   "cell_type": "code",
   "execution_count": 5,
   "metadata": {},
   "outputs": [
    {
     "data": {
      "text/html": "<div>\n<style scoped>\n    .dataframe tbody tr th:only-of-type {\n        vertical-align: middle;\n    }\n\n    .dataframe tbody tr th {\n        vertical-align: top;\n    }\n\n    .dataframe thead th {\n        text-align: right;\n    }\n</style>\n<table border=\"1\" class=\"dataframe\">\n  <thead>\n    <tr style=\"text-align: right;\">\n      <th></th>\n      <th>Player</th>\n      <th>Age</th>\n      <th>Team</th>\n      <th>Height</th>\n      <th>Weight</th>\n      <th>points</th>\n      <th>Rebounds</th>\n      <th>Assist</th>\n      <th>Season</th>\n    </tr>\n  </thead>\n  <tbody>\n    <tr>\n      <th>7625</th>\n      <td>Ronnie Price</td>\n      <td>31.0</td>\n      <td>ORL</td>\n      <td>187.96</td>\n      <td>86.18248</td>\n      <td>2.4</td>\n      <td>1.4</td>\n      <td>2.1</td>\n      <td>2013-14</td>\n    </tr>\n    <tr>\n      <th>7626</th>\n      <td>Rudy Gay</td>\n      <td>27.0</td>\n      <td>SAC</td>\n      <td>203.20</td>\n      <td>104.32616</td>\n      <td>20.0</td>\n      <td>6.0</td>\n      <td>2.9</td>\n      <td>2013-14</td>\n    </tr>\n    <tr>\n      <th>7627</th>\n      <td>Royce White</td>\n      <td>23.0</td>\n      <td>SAC</td>\n      <td>203.20</td>\n      <td>117.93392</td>\n      <td>0.0</td>\n      <td>0.0</td>\n      <td>0.0</td>\n      <td>2013-14</td>\n    </tr>\n    <tr>\n      <th>7628</th>\n      <td>Royal Ivey</td>\n      <td>32.0</td>\n      <td>OKC</td>\n      <td>193.04</td>\n      <td>90.71840</td>\n      <td>0.0</td>\n      <td>0.5</td>\n      <td>0.0</td>\n      <td>2013-14</td>\n    </tr>\n    <tr>\n      <th>7629</th>\n      <td>Roy Hibbert</td>\n      <td>27.0</td>\n      <td>IND</td>\n      <td>218.44</td>\n      <td>131.54168</td>\n      <td>10.8</td>\n      <td>6.6</td>\n      <td>1.1</td>\n      <td>2013-14</td>\n    </tr>\n  </tbody>\n</table>\n</div>",
      "text/plain": "            Player   Age Team  Height     Weight  points  Rebounds  Assist  \\\n7625  Ronnie Price  31.0  ORL  187.96   86.18248     2.4       1.4     2.1   \n7626      Rudy Gay  27.0  SAC  203.20  104.32616    20.0       6.0     2.9   \n7627   Royce White  23.0  SAC  203.20  117.93392     0.0       0.0     0.0   \n7628    Royal Ivey  32.0  OKC  193.04   90.71840     0.0       0.5     0.0   \n7629   Roy Hibbert  27.0  IND  218.44  131.54168    10.8       6.6     1.1   \n\n       Season  \n7625  2013-14  \n7626  2013-14  \n7627  2013-14  \n7628  2013-14  \n7629  2013-14  "
     },
     "execution_count": 5,
     "metadata": {},
     "output_type": "execute_result"
    }
   ],
   "source": [
    "new_season_df = season_renamed.loc[season_renamed['Season'] > '2012-13']\r\n",
    "new_season_df.head()\r\n"
   ]
  },
  {
   "cell_type": "code",
   "execution_count": 6,
   "metadata": {},
   "outputs": [],
   "source": [
    "rds_connection_string = \"postgres:FNlenh97@localhost:5432/NBA_DB\"\r\n",
    "engine = create_engine(f'postgresql://{rds_connection_string}')"
   ]
  },
  {
   "cell_type": "code",
   "execution_count": 7,
   "metadata": {},
   "outputs": [],
   "source": [
    "new_season_df.to_sql(name='all_season', con=engine, if_exists='append', index=False)"
   ]
  },
  {
   "cell_type": "code",
   "execution_count": 8,
   "metadata": {},
   "outputs": [
    {
     "data": {
      "text/html": "<div>\n<style scoped>\n    .dataframe tbody tr th:only-of-type {\n        vertical-align: middle;\n    }\n\n    .dataframe tbody tr th {\n        vertical-align: top;\n    }\n\n    .dataframe thead th {\n        text-align: right;\n    }\n</style>\n<table border=\"1\" class=\"dataframe\">\n  <thead>\n    <tr style=\"text-align: right;\">\n      <th></th>\n      <th>Player</th>\n      <th>Age</th>\n      <th>Team</th>\n      <th>Height</th>\n      <th>Weight</th>\n      <th>points</th>\n      <th>Rebounds</th>\n      <th>Assist</th>\n      <th>Season</th>\n    </tr>\n  </thead>\n  <tbody>\n    <tr>\n      <th>0</th>\n      <td>Ronnie Price</td>\n      <td>31.0</td>\n      <td>ORL</td>\n      <td>187.96</td>\n      <td>86.18248</td>\n      <td>2.4</td>\n      <td>1.4</td>\n      <td>2.1</td>\n      <td>2013-14</td>\n    </tr>\n    <tr>\n      <th>1</th>\n      <td>Rudy Gay</td>\n      <td>27.0</td>\n      <td>SAC</td>\n      <td>203.20</td>\n      <td>104.32616</td>\n      <td>20.0</td>\n      <td>6.0</td>\n      <td>2.9</td>\n      <td>2013-14</td>\n    </tr>\n    <tr>\n      <th>2</th>\n      <td>Royce White</td>\n      <td>23.0</td>\n      <td>SAC</td>\n      <td>203.20</td>\n      <td>117.93392</td>\n      <td>0.0</td>\n      <td>0.0</td>\n      <td>0.0</td>\n      <td>2013-14</td>\n    </tr>\n    <tr>\n      <th>3</th>\n      <td>Royal Ivey</td>\n      <td>32.0</td>\n      <td>OKC</td>\n      <td>193.04</td>\n      <td>90.71840</td>\n      <td>0.0</td>\n      <td>0.5</td>\n      <td>0.0</td>\n      <td>2013-14</td>\n    </tr>\n    <tr>\n      <th>4</th>\n      <td>Roy Hibbert</td>\n      <td>27.0</td>\n      <td>IND</td>\n      <td>218.44</td>\n      <td>131.54168</td>\n      <td>10.8</td>\n      <td>6.6</td>\n      <td>1.1</td>\n      <td>2013-14</td>\n    </tr>\n  </tbody>\n</table>\n</div>",
      "text/plain": "         Player   Age Team  Height     Weight  points  Rebounds  Assist  \\\n0  Ronnie Price  31.0  ORL  187.96   86.18248     2.4       1.4     2.1   \n1      Rudy Gay  27.0  SAC  203.20  104.32616    20.0       6.0     2.9   \n2   Royce White  23.0  SAC  203.20  117.93392     0.0       0.0     0.0   \n3    Royal Ivey  32.0  OKC  193.04   90.71840     0.0       0.5     0.0   \n4   Roy Hibbert  27.0  IND  218.44  131.54168    10.8       6.6     1.1   \n\n    Season  \n0  2013-14  \n1  2013-14  \n2  2013-14  \n3  2013-14  \n4  2013-14  "
     },
     "execution_count": 8,
     "metadata": {},
     "output_type": "execute_result"
    }
   ],
   "source": [
    "pd.read_sql_query('select * from all_season', con=engine).head()"
   ]
  },
  {
   "cell_type": "code",
   "execution_count": null,
   "metadata": {},
   "outputs": [],
   "source": []
  }
 ],
 "metadata": {
  "kernelspec": {
   "display_name": "Python 3.8.5 64-bit ('base': conda)",
   "name": "python385jvsc74a57bd0bfc9cf530601329b457e51059443edadfb9bb1ebead09777b097007534cdaa11"
  },
  "language_info": {
   "codemirror_mode": {
    "name": "ipython",
    "version": 3
   },
   "file_extension": ".py",
   "mimetype": "text/x-python",
   "name": "python",
   "nbconvert_exporter": "python",
   "pygments_lexer": "ipython3",
   "version": "3.8.5"
  }
 },
 "nbformat": 4,
 "nbformat_minor": 2
}